{
 "cells": [
  {
   "cell_type": "markdown",
   "id": "7f5b94c9",
   "metadata": {},
   "source": [
    "# Ifc Step_P21 Conversion\n",
    "\n",
    "\n",
    "## Scenario\n",
    "Notebook that converts a .ifc-file to a graph representation and back to .ifc.\n",
    "\n",
    "## Table of Content\n",
    "- Init database connection\n",
    "- parse a .ifc-file and generate a graph from it\n",
    "- parse the graph and generate a .ifc-file from it"
   ]
  },
  {
   "cell_type": "markdown",
   "id": "1c04a07d",
   "metadata": {},
   "source": [
    "### Init database connection"
   ]
  },
  {
   "cell_type": "code",
   "execution_count": 4,
   "id": "85ff6498",
   "metadata": {},
   "outputs": [
    {
     "name": "stdout",
     "output_type": "stream",
     "text": [
      "Initialized new Connector instance.\n"
     ]
    }
   ],
   "source": [
    "from IfcGraphInterface.Ifc2GraphTranslator import IFCGraphGenerator\n",
    "from neo4j_middleware.neo4jConnector import Neo4jConnector\n",
    "from IfcGraphInterface.Graph2IfcTranslator import Graph2IfcTranslator\n",
    "from neo4j_middleware.Neo4jQueryFactory import Neo4jQueryFactory\n",
    "from neo4j_middleware.ResponseParser.NodeItem import NodeItem\n",
    "\n",
    "connector = Neo4jConnector()\n",
    "connector.connect_driver()"
   ]
  },
  {
   "cell_type": "markdown",
   "id": "7d0e3621",
   "metadata": {},
   "source": [
    "### Parse .ifc-file"
   ]
  },
  {
   "cell_type": "code",
   "execution_count": 5,
   "id": "cc869f9b",
   "metadata": {},
   "outputs": [
    {
     "name": "stdout",
     "output_type": "stream",
     "text": [
      "Starting to generate graphs...\n",
      "DEBUG INFO: entire graph labeled with >> ts20200928T074754 << gets deleted \n",
      "\n",
      "[IFC_P21 > ts20200928T074754 < ]: Generating graph... \n",
      "[####################################################################################################] 100% done.\n",
      "[IFC_P21 > ts20200928T074754 < ]: Generating graph - DONE. \n",
      " \n",
      "Generating done. Graph completed.\n"
     ]
    }
   ],
   "source": [
    "path = './00_sampleData/IFC_stepP21/SpatialStructure_01/spatial_updated.ifc'\n",
    "\n",
    "print('Starting to generate graphs...')\n",
    "graphGenerator = IFCGraphGenerator(connector, path, None)\n",
    "graphGenerator.generateGraph()\n",
    "print('Generating done. Graph completed.')"
   ]
  },
  {
   "cell_type": "markdown",
   "id": "4eaea61d",
   "metadata": {},
   "source": [
    "### Parse graph and generate .ifc-file"
   ]
  },
  {
   "cell_type": "code",
   "execution_count": 7,
   "id": "c05d4825",
   "metadata": {},
   "outputs": [
    {
     "name": "stdout",
     "output_type": "stream",
     "text": [
      "---- Building primary & secondary nodes. ----\n",
      "building entity IfcSite\n",
      "building entity IfcLocalPlacement\n",
      "building entity IfcAxis2Placement3D\n",
      "building entity IfcDirection\n",
      "building entity IfcDirection\n",
      "building entity IfcCartesianPoint\n",
      "building entity IfcOwnerHistory\n",
      "building entity IfcApplication\n",
      "building entity IfcOrganization\n",
      "building entity IfcPersonAndOrganization\n",
      "building entity IfcOrganization\n",
      "building entity IfcPerson\n",
      "building entity IfcProject\n",
      "building entity IfcUnitAssignment\n",
      "building entity IfcSIUnit\n",
      "building entity IfcSIUnit\n",
      "building entity IfcSIUnit\n",
      "building entity IfcSIUnit\n",
      "building entity IfcSIUnit\n",
      "building entity IfcBuilding\n",
      "building entity IfcLocalPlacement\n",
      "building entity IfcAxis2Placement3D\n",
      "building entity IfcCartesianPoint\n",
      "---- Primary & secondary nodes done. ----\n",
      "---- Building primary & secondary nodes. ----\n",
      "building entity IfcRelAggregates\n",
      "building entity IfcRelAggregates\n",
      "---- Connection Nodes done. ----\n"
     ]
    }
   ],
   "source": [
    "generator = Graph2IfcTranslator()\n",
    "query_factory = Neo4jQueryFactory()\n",
    "\n",
    "ts = \"ts20200928T074754\"\n",
    "\n",
    "# get all primary nodes\n",
    "cy = query_factory.get_primary_nodes(ts)\n",
    "raw_res = connector.run_cypher_statement(cy)\n",
    "\n",
    "# cast cypher response in a list of node items\n",
    "nodes = NodeItem.fromNeo4jResponseWouRel(raw_res)\n",
    "\n",
    "print('---- Building primary & secondary nodes. ----')\n",
    "for n in nodes:\n",
    "\n",
    "    # query all node properties of n\n",
    "    cy = query_factory.get_node_properties_by_id(n.id)\n",
    "    raw_res = connector.run_cypher_statement(cy, \"properties(n)\")\n",
    "    # assign properties to node object\n",
    "    n.setNodeAttributes(raw_res)\n",
    "\n",
    "    n.tidy_attrs()\n",
    "\n",
    "    # build IFC entity\n",
    "    generator.build_entity(n.id, n.entityType, n.attrs)\n",
    "\n",
    "    generator.build_childs(n, True, connector, ts)\n",
    "    \n",
    "print('---- Primary & secondary nodes done. ----')\n",
    "\n",
    "# get all connection nodes\n",
    "cn = query_factory.get_connection_nodes(ts)\n",
    "raw_res = connector.run_cypher_statement(cn)\n",
    "\n",
    "connection_nodes = NodeItem.fromNeo4jResponseWouRel(raw_res)\n",
    "\n",
    "print('---- Building connection nodes. ----')\n",
    "for cnode in connection_nodes:\n",
    "    cy = query_factory.get_node_properties_by_id(cnode.id)\n",
    "    raw_res = connector.run_cypher_statement(cy, \"properties(n)\")\n",
    "    # assign properties to node object\n",
    "    cnode.setNodeAttributes(raw_res)\n",
    "\n",
    "    cnode.tidy_attrs()\n",
    "\n",
    "    # build IFC entity\n",
    "    generator.build_entity(cnode.id, cnode.entityType, cnode.attrs)\n",
    "\n",
    "    # build the childs (non-recursive)\n",
    "    generator.build_childs(n, False, connector, ts)\n",
    "    \n",
    "print('---- Connection Nodes done. ----')\n",
    "\n",
    "generator.save_model('test')\n",
    "\n",
    "connector.disconnect_driver()"
   ]
  },
  {
   "cell_type": "code",
   "execution_count": null,
   "id": "abceed75",
   "metadata": {},
   "outputs": [],
   "source": []
  }
 ],
 "metadata": {
  "kernelspec": {
   "display_name": "Python 3",
   "language": "python",
   "name": "python3"
  },
  "language_info": {
   "codemirror_mode": {
    "name": "ipython",
    "version": 3
   },
   "file_extension": ".py",
   "mimetype": "text/x-python",
   "name": "python",
   "nbconvert_exporter": "python",
   "pygments_lexer": "ipython3",
   "version": "3.8.8"
  }
 },
 "nbformat": 4,
 "nbformat_minor": 5
}
