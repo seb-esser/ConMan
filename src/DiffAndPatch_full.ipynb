{
 "cells": [
  {
   "cell_type": "markdown",
   "metadata": {
    "pycharm": {
     "name": "#%% md\n"
    },
    "slideshow": {
     "slide_type": "slide"
    }
   },
   "source": [
    "# Content:\n",
    "\n",
    "- parse IFC models into graph database\n",
    "- run Diff\n",
    "- generate patch\n",
    "- apply patch"
   ]
  },
  {
   "cell_type": "markdown",
   "metadata": {
    "pycharm": {
     "name": "#%% md\n"
    }
   },
   "source": [
    "## Parse BIM models into graph database"
   ]
  },
  {
   "cell_type": "code",
   "execution_count": 5,
   "metadata": {
    "pycharm": {
     "name": "#%%\n"
    }
   },
   "outputs": [
    {
     "name": "stdout",
     "output_type": "stream",
     "text": [
      "[INFO] Parsing Ifc StepP21 model to Neo4j.... \n",
      "\n",
      "Initialized new Connector instance.\n",
      "[INFO] Starting to generate graphs...\n",
      "Generating Graph 1/2\n",
      "[IFC_P21 > ts20210623T091748 < ]: Generating graph... \n",
      "[####################################################################################################] 99% done.\n",
      "[IFC_P21 > ts20210623T091748 < ]: Generating graph - DONE. \n",
      " \n",
      "Validation successful. Number of entities in the file equal the number of nodes in the graph.\n",
      "Generating Graph 2/2\n",
      "[IFC_P21 > ts20210623T091749 < ]: Generating graph... \n",
      "[####################################################################################################] 99% done.\n",
      "[IFC_P21 > ts20210623T091749 < ]: Generating graph - DONE. \n",
      " \n",
      "Validation successful. Number of entities in the file equal the number of nodes in the graph.\n",
      "\n",
      "[INFO] 100% done. Graphs generated. Finished in 4.11 seconds.\n"
     ]
    }
   ],
   "source": [
    "import time\n",
    "from typing import List\n",
    "\n",
    "from IfcGraphInterface.Ifc2GraphTranslator import IFCGraphGenerator\n",
    "from neo4j_middleware.neo4jConnector import Neo4jConnector\n",
    "\n",
    "print('[INFO] Parsing Ifc StepP21 model to Neo4j.... \\n')\n",
    "\n",
    "# connect to neo4j\n",
    "connector = Neo4jConnector()\n",
    "connector.connect_driver()\n",
    "\n",
    "# paths to IFC models\n",
    "model_paths: List[str] = [\n",
    "    './00_sampleData/IFC_stepP21/GeomRepresentation_05/cube_single.ifc',\n",
    "    './00_sampleData/IFC_stepP21/GeomRepresentation_05/cube_double.ifc']\n",
    "\n",
    "print('[INFO] Starting to generate graphs...')\n",
    "amount = len(model_paths)\n",
    "start = time.perf_counter()\n",
    "\n",
    "model_labels = []\n",
    "\n",
    "for idx, path in enumerate(model_paths):\n",
    "    # parse model\n",
    "    graphGenerator = IFCGraphGenerator(connector, path, None)\n",
    "    print('Generating Graph %d/%d' % (idx + 1, amount))\n",
    "    label = graphGenerator.generateGraph()\n",
    "    model_labels.append(label)\n",
    "\n",
    "finish = time.perf_counter()\n",
    "print('\\n[INFO] 100% done. Graphs generated. Finished in {} seconds.'.format(round(finish - start, 2)))\n",
    "# disconnect from database\n",
    "connector.disconnect_driver()\n",
    "\n",
    "label_init = model_labels[0]\n",
    "label_updated = model_labels[1]\n",
    "\n",
    "del idx, finish, start, model_labels, label, graphGenerator"
   ]
  },
  {
   "cell_type": "markdown",
   "metadata": {
    "pycharm": {
     "name": "#%% md\n"
    }
   },
   "source": [
    "## Run diff"
   ]
  },
  {
   "cell_type": "markdown",
   "metadata": {
    "pycharm": {
     "name": "#%% md\n"
    }
   },
   "source": [
    "runs the depth-first traversal to compare both model graphs and connects equivalent nodes using `EQUIVALENT_TO` edges"
   ]
  },
  {
   "cell_type": "code",
   "execution_count": 6,
   "metadata": {
    "pycharm": {
     "name": "#%%\n"
    }
   },
   "outputs": [
    {
     "name": "stdout",
     "output_type": "stream",
     "text": [
      "Run Diff ... \n",
      "\n",
      "Initialized new Connector instance.\n",
      "[DIFF] Running subgraph Diff under PrimaryNodes 45 and 24\n",
      "[DIFF] Running subgraph Diff under PrimaryNodes 46 and 25\n",
      "[DIFF] Running subgraph Diff under PrimaryNodes 30 and 9\n",
      "[INFO] building EQUIVALENT_TO edges ... \n",
      "[INFO] building EQUIVALENT_TO edges: DONE. \n",
      "[INFO] saving delta ... \n",
      "[INFO] saving delta: DONE. \n"
     ]
    }
   ],
   "source": [
    "from neo4jGraphDiff.GraphDiff import GraphDiff\n",
    "from neo4j_middleware.ResponseParser.NodeItem import NodeItem\n",
    "from neo4j_middleware.neo4jConnector import Neo4jConnector\n",
    "import jsonpickle\n",
    "\n",
    "print('Run Diff ... \\n')\n",
    "\n",
    "# connect to neo4j\n",
    "connector = Neo4jConnector()\n",
    "connector.connect_driver()\n",
    "\n",
    "# get topmost entry nodes\n",
    "raw_init = connector.run_cypher_statement(\n",
    "    \"\"\"\n",
    "    MATCH (n:PrimaryNode:{} {{EntityType: \"IfcProject\"}})\n",
    "    RETURN ID(n), n.EntityType, PROPERTIES(n), LABELS(n)\n",
    "    \"\"\".format(label_init))\n",
    "raw_updated = connector.run_cypher_statement(\n",
    "    \"\"\"\n",
    "    MATCH (n:PrimaryNode:{} {{EntityType: \"IfcProject\"}})\n",
    "    RETURN ID(n), n.EntityType, PROPERTIES(n), LABELS(n)\n",
    "    \"\"\".format(label_updated))\n",
    "\n",
    "entry_init: NodeItem = NodeItem.from_neo4j_response_wou_rel(raw_init)[0]\n",
    "entry_updated: NodeItem = NodeItem.from_neo4j_response_wou_rel(raw_updated)[0]\n",
    "\n",
    "# run diff\n",
    "pDiff = GraphDiff(connector=connector, ts_init=label_init, ts_updated=label_updated)\n",
    "delta = pDiff.diff_subgraphs(entry_init, entry_updated)\n",
    "\n",
    "# Create EQUIVALENT_TO relationships to mark all nodePairs that are matched\n",
    "print('[INFO] building EQUIVALENT_TO edges ... ')\n",
    "pDiff.build_equivalent_to_edges()\n",
    "print('[INFO] building EQUIVALENT_TO edges: DONE. ')\n",
    "\n",
    "# store result\n",
    "print('[INFO] saving delta ... ')\n",
    "f = open('GraphDelta_init{}-updt{}.json'.format(label_init, label_updated), 'w')\n",
    "f.write(jsonpickle.dumps(delta))\n",
    "f.close()\n",
    "print('[INFO] saving delta: DONE. ')\n",
    "\n",
    "\n",
    "connector.disconnect_driver()\n",
    "del raw_init, raw_updated, entry_init, entry_updated, GraphDiff, f"
   ]
  },
  {
   "cell_type": "markdown",
   "metadata": {
    "pycharm": {
     "name": "#%% md\n"
    }
   },
   "source": [
    "## Generate patch"
   ]
  },
  {
   "cell_type": "code",
   "execution_count": 7,
   "metadata": {
    "pycharm": {
     "name": "#%%\n"
    }
   },
   "outputs": [
    {
     "name": "stdout",
     "output_type": "stream",
     "text": [
      "Initialized new Connector instance.\n",
      "[INFO] loading delta json....\n",
      "[INFO] loading delta json: DONE.\n",
      "[INFO] generate patch ....\n",
      "[INFO] generate patch: DONE.\n",
      "[INFO] saving patch ... \n",
      "[INFO] saving patch: DONE. \n"
     ]
    }
   ],
   "source": [
    "from PatchManager.PatchService import PatchService\n",
    "from neo4j_middleware.neo4jConnector import Neo4jConnector\n",
    "\n",
    "connector = Neo4jConnector()\n",
    "connector.connect_driver()\n",
    "\n",
    "service = PatchService()\n",
    "service.load_delta('GraphDelta_init{}-updt{}.json'.format(label_init, label_updated))\n",
    "\n",
    "patch = service.generate_DPO_patch(connector=connector)\n",
    "\n",
    "service.save_patch_to_json(patch)\n",
    "\n",
    "# visualize results\n",
    "# update_patch.operations[0].plot_patterns()\n",
    "\n",
    "# finally disconnect\n",
    "connector.disconnect_driver()\n"
   ]
  },
  {
   "cell_type": "markdown",
   "metadata": {
    "pycharm": {
     "name": "#%% md\n"
    }
   },
   "source": [
    "## Apply patch\n",
    "\n",
    "! Switch to receiver database !"
   ]
  },
  {
   "cell_type": "markdown",
   "metadata": {
    "pycharm": {
     "name": "#%% md\n"
    }
   },
   "source": [
    "optional: clear database"
   ]
  },
  {
   "cell_type": "code",
   "execution_count": 9,
   "metadata": {
    "pycharm": {
     "name": "#%%\n"
    }
   },
   "outputs": [
    {
     "name": "stdout",
     "output_type": "stream",
     "text": [
      "Initialized new Connector instance.\n",
      "[INFO] clear database ... \n",
      "[INFO] clear database: DONE. \n"
     ]
    }
   ],
   "source": [
    "from neo4j_middleware.neo4jConnector import Neo4jConnector\n",
    "\n",
    "# connect to neo4j\n",
    "connector = Neo4jConnector()\n",
    "connector.connect_driver()\n",
    "print(\"[INFO] clear database ... \")\n",
    "connector.run_cypher_statement(\"MATCH (n) DETACH DELETE n\")\n",
    "connector.disconnect_driver()\n",
    "print(\"[INFO] clear database: DONE. \")"
   ]
  },
  {
   "cell_type": "markdown",
   "metadata": {
    "pycharm": {
     "name": "#%% md\n"
    }
   },
   "source": [
    "optional: load initial model"
   ]
  },
  {
   "cell_type": "code",
   "execution_count": 10,
   "metadata": {
    "pycharm": {
     "name": "#%%\n"
    }
   },
   "outputs": [
    {
     "name": "stdout",
     "output_type": "stream",
     "text": [
      "Initialized new Connector instance.\n",
      "[INFO] Generating host graph... \n",
      "[IFC_P21 > ts20210623T091749 < ]: Generating graph... \n",
      "[####################################################################################################] 99% done.\n",
      "[IFC_P21 > ts20210623T091749 < ]: Generating graph - DONE. \n",
      " \n",
      "Validation successful. Number of entities in the file equal the number of nodes in the graph.\n",
      "[INFO] Generating host graph: DONE. \n"
     ]
    }
   ],
   "source": [
    "from IfcGraphInterface.Ifc2GraphTranslator import IFCGraphGenerator\n",
    "from neo4j_middleware.neo4jConnector import Neo4jConnector\n",
    "\n",
    "# connect to neo4j\n",
    "connector = Neo4jConnector()\n",
    "connector.connect_driver()\n",
    "\n",
    "# paths to IFC models\n",
    "model_paths = [\n",
    "    './00_sampleData/IFC_stepP21/GeomRepresentation_05/cube_single.ifc',\n",
    "    './00_sampleData/IFC_stepP21/GeomRepresentation_05/cube_double.ifc']\n",
    "\n",
    "graphGenerator = IFCGraphGenerator(connector, model_paths[1], None)\n",
    "print('[INFO] Generating host graph... ' )\n",
    "ts_host = graphGenerator.generateGraph()\n",
    "print('[INFO] Generating host graph: DONE. ')\n",
    "# finally disconnect\n",
    "connector.disconnect_driver()"
   ]
  },
  {
   "cell_type": "markdown",
   "metadata": {
    "pycharm": {
     "name": "#%% md\n"
    }
   },
   "source": [
    "Apply patch"
   ]
  },
  {
   "cell_type": "code",
   "execution_count": 7,
   "metadata": {
    "pycharm": {
     "name": "#%%\n"
    }
   },
   "outputs": [
    {
     "name": "stdout",
     "output_type": "stream",
     "text": [
      "Initialized new Connector instance.\n",
      "[INFO] loading delta json....\n",
      "[INFO] loading delta json: DONE.\n",
      "[INFO] Applying patch ...\n",
      "[INFO] finding context...\n",
      "insert push out\n",
      "[INFO] Applying patch: DONE.\n"
     ]
    }
   ],
   "source": [
    "from PatchManager.PatchService import PatchService\n",
    "from neo4j_middleware.neo4jConnector import Neo4jConnector\n",
    "\n",
    "label_init = \"ts20210623T091748\"\n",
    "label_updated = \"ts20210623T091749\"\n",
    "\n",
    "# connect to neo4j\n",
    "connector = Neo4jConnector()\n",
    "connector.connect_driver()\n",
    "\n",
    "# init new PatchService object handling all load and save operations\n",
    "service = PatchService()\n",
    "\n",
    "# load patch\n",
    "patch = service.load_patch_from_json('Patch_init{}-updt{}.json'.format(label_init, label_updated))\n",
    "\n",
    "# apply the patch\n",
    "print('[INFO] Applying patch ...' )\n",
    "service.apply_patch(patch, connector=connector)\n",
    "print('[INFO] Applying patch: DONE.' )\n",
    "\n",
    "# finally disconnect\n",
    "connector.disconnect_driver()"
   ]
  },
  {
   "cell_type": "code",
   "execution_count": 8,
   "metadata": {
    "pycharm": {
     "name": "#%%\n"
    }
   },
   "outputs": [
    {
     "data": {
      "text/plain": "[]"
     },
     "execution_count": 8,
     "metadata": {},
     "output_type": "execute_result"
    }
   ],
   "source": [
    "# harmonize labels\n",
    "label_init = \"ts20210623T091748\"\n",
    "label_updated = \"ts20210623T091749\"\n",
    "\n",
    "connector.run_cypher_statement(\"MATCH (n) REMOVE n:{} SET n:{}\".format(label_init, label_updated))"
   ]
  },
  {
   "cell_type": "markdown",
   "metadata": {
    "pycharm": {
     "name": "#%% md\n"
    }
   },
   "source": [
    "# Parse graph back into file-based representation"
   ]
  },
  {
   "cell_type": "code",
   "execution_count": 11,
   "metadata": {
    "pycharm": {
     "name": "#%%\n"
    }
   },
   "outputs": [
    {
     "name": "stdout",
     "output_type": "stream",
     "text": [
      "Initialized new Connector instance.\n",
      "[INFO] Parsing graph to Ifc StepP21 model... \n",
      "[INFO] Parsing graph to Ifc StepP21 model: DONE. \n",
      "[INFO] path: C:\\dev\\out\\ts20210623T091749\n"
     ]
    }
   ],
   "source": [
    "from IfcGraphInterface.Graph2IfcTranslator import Graph2IfcTranslator\n",
    "from neo4j_middleware.neo4jConnector import Neo4jConnector\n",
    "\n",
    "# connect to neo4j\n",
    "connector = Neo4jConnector()\n",
    "connector.connect_driver()\n",
    "\n",
    "label_updated = \"ts20210623T091749\"\n",
    "\n",
    "print('[INFO] Parsing graph to Ifc StepP21 model... ')\n",
    "generator = Graph2IfcTranslator(connector=connector, ts=label_updated)\n",
    "generator.generateSPF()\n",
    "\n",
    "path = \"C:\\dev\\out\\{}\".format(label_updated)\n",
    "generator.save_model(path=path)\n",
    "\n",
    "print('[INFO] Parsing graph to Ifc StepP21 model: DONE. ')\n",
    "print('[INFO] path: {}'.format(path))\n",
    "\n",
    "# finally disconnect\n",
    "connector.disconnect_driver()"
   ]
  },
  {
   "cell_type": "code",
   "execution_count": null,
   "metadata": {
    "pycharm": {
     "name": "#%%\n"
    }
   },
   "outputs": [],
   "source": []
  },
  {
   "cell_type": "code",
   "execution_count": null,
   "metadata": {
    "pycharm": {
     "name": "#%%\n"
    }
   },
   "outputs": [],
   "source": []
  }
 ],
 "metadata": {
  "kernelspec": {
   "display_name": "Python 3 (ipykernel)",
   "language": "python",
   "name": "python3"
  },
  "language_info": {
   "codemirror_mode": {
    "name": "ipython",
    "version": 3
   },
   "file_extension": ".py",
   "mimetype": "text/x-python",
   "name": "python",
   "nbconvert_exporter": "python",
   "pygments_lexer": "ipython3",
   "version": "3.8.12"
  }
 },
 "nbformat": 4,
 "nbformat_minor": 1
}