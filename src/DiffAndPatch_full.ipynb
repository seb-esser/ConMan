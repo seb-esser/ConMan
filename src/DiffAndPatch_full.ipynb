{
 "cells": [
  {
   "cell_type": "markdown",
   "metadata": {
    "slideshow": {
     "slide_type": "slide"
    }
   },
   "source": [
    "# Content:\n",
    "\n",
    "- parse IFC models into graph database\n",
    "- run Diff\n",
    "- generate patch\n",
    "- apply patch"
   ]
  },
  {
   "cell_type": "markdown",
   "metadata": {},
   "source": [
    "## Parse BIM models into graph database"
   ]
  },
  {
   "cell_type": "code",
   "execution_count": null,
   "metadata": {
    "pycharm": {
     "name": "#%%\n"
    }
   },
   "outputs": [],
   "source": [
    "import time\n",
    "from typing import List\n",
    "\n",
    "from IfcGraphInterface.Ifc2GraphTranslator import IFCGraphGenerator\n",
    "from neo4j_middleware.neo4jConnector import Neo4jConnector\n",
    "\n",
    "print('[INFO] Parsing Ifc StepP21 model to Neo4j.... \\n')\n",
    "\n",
    "# connect to neo4j\n",
    "connector = Neo4jConnector()\n",
    "connector.connect_driver()\n",
    "\n",
    "# paths to IFC models\n",
    "model_paths: List[str] = [\n",
    "    './00_sampleData/IFC_stepP21/GeomRepresentation_05/cube_single.ifc',\n",
    "    './00_sampleData/IFC_stepP21/GeomRepresentation_05/cube_double.ifc']\n",
    "\n",
    "print('[INFO] Starting to generate graphs...')\n",
    "amount = len(model_paths)\n",
    "start = time.perf_counter()\n",
    "\n",
    "model_labels = []\n",
    "\n",
    "for idx, path in enumerate(model_paths):\n",
    "    # parse model\n",
    "    graphGenerator = IFCGraphGenerator(connector, path, None)\n",
    "    print('Generating Graph %d/%d' % (idx + 1, amount))\n",
    "    label = graphGenerator.generateGraph()\n",
    "    model_labels.append(label)\n",
    "\n",
    "finish = time.perf_counter()\n",
    "print('\\n[INFO] 100% done. Graphs generated. Finished in {} seconds.'.format(round(finish - start, 2)))\n",
    "# disconnect from database\n",
    "connector.disconnect_driver()\n",
    "\n",
    "label_init = model_labels[0]\n",
    "label_updated = model_labels[1]\n",
    "\n",
    "del idx, finish, start, model_labels, label, graphGenerator"
   ]
  },
  {
   "cell_type": "markdown",
   "metadata": {},
   "source": [
    "## Run diff"
   ]
  },
  {
   "cell_type": "markdown",
   "metadata": {},
   "source": [
    "runs the depth-first traversal to compare both model graphs and connects equivalent nodes using `EQUIVALENT_TO` edges"
   ]
  },
  {
   "cell_type": "code",
   "execution_count": null,
   "metadata": {
    "pycharm": {
     "name": "#%%\n"
    }
   },
   "outputs": [],
   "source": [
    "from neo4jGraphDiff.GraphDiff import GraphDiff\n",
    "from neo4j_middleware.ResponseParser.NodeItem import NodeItem\n",
    "from neo4j_middleware.neo4jConnector import Neo4jConnector\n",
    "import jsonpickle\n",
    "\n",
    "print('Run Diff ... \\n')\n",
    "\n",
    "# connect to neo4j\n",
    "connector = Neo4jConnector()\n",
    "connector.connect_driver()\n",
    "\n",
    "# get topmost entry nodes\n",
    "raw_init = connector.run_cypher_statement(\n",
    "    \"\"\"\n",
    "    MATCH (n:PrimaryNode:{} {{EntityType: \"IfcProject\"}})\n",
    "    RETURN ID(n), n.EntityType, PROPERTIES(n), LABELS(n)\n",
    "    \"\"\".format(label_init))\n",
    "raw_updated = connector.run_cypher_statement(\n",
    "    \"\"\"\n",
    "    MATCH (n:PrimaryNode:{} {{EntityType: \"IfcProject\"}})\n",
    "    RETURN ID(n), n.EntityType, PROPERTIES(n), LABELS(n)\n",
    "    \"\"\".format(label_updated))\n",
    "\n",
    "entry_init: NodeItem = NodeItem.from_neo4j_response_wou_rel(raw_init)[0]\n",
    "entry_updated: NodeItem = NodeItem.from_neo4j_response_wou_rel(raw_updated)[0]\n",
    "\n",
    "# run diff\n",
    "pDiff = GraphDiff(connector=connector, ts_init=label_init, ts_updated=label_updated)\n",
    "delta = pDiff.diff_subgraphs(entry_init, entry_updated)\n",
    "\n",
    "# Create EQUIVALENT_TO relationships to mark all nodePairs that are matched\n",
    "for p in delta.node_matching_table.matched_nodes:\n",
    "    cy = \"\"\"\n",
    "    MATCH (n) WHERE ID(n)={0}\n",
    "    MATCH (m) WHERE ID(m)= {1}\n",
    "    MERGE (n)-[:EQUIVALENT_TO]->(m)\n",
    "    \"\"\".format(p.init_node.id, p.updated_node.id)\n",
    "    connector.run_cypher_statement(cy)\n",
    "\n",
    "# store result\n",
    "print('[INFO] saving delta ... ')\n",
    "f = open('GraphDelta_init{}-updt{}.json'.format(label_init, label_updated), 'w')\n",
    "f.write(jsonpickle.dumps(delta))\n",
    "f.close()\n",
    "print('[INFO] saving delta: DONE. ')\n",
    "\n",
    "\n",
    "connector.disconnect_driver()\n",
    "del raw_init, raw_updated, entry_init, entry_updated, p, GraphDiff, cy, f"
   ]
  },
  {
   "cell_type": "markdown",
   "metadata": {
    "pycharm": {
     "name": "#%% md\n"
    }
   },
   "source": [
    "## Generate patch"
   ]
  },
  {
   "cell_type": "code",
   "execution_count": null,
   "metadata": {
    "pycharm": {
     "name": "#%%\n"
    }
   },
   "outputs": [],
   "source": [
    "from PatchManager.DPOService import DPOService\n",
    "\n",
    "connector = Neo4jConnector()\n",
    "connector.connect_driver()\n",
    "\n",
    "service = DPOService(ts_init=label_init, ts_updated=label_updated)\n",
    "update_patch = service.generate_DPO_patch(connector=connector)\n",
    "del service\n",
    "\n",
    "# visualize results\n",
    "# update_patch.operations[0].plot_patterns()\n",
    "\n",
    "# finally disconnect\n",
    "connector.disconnect_driver()"
   ]
  },
  {
   "cell_type": "markdown",
   "source": [
    "## Apply patch\n",
    "\n",
    "! Switch to receiver database !"
   ],
   "metadata": {
    "collapsed": false
   }
  },
  {
   "cell_type": "code",
   "execution_count": null,
   "metadata": {
    "pycharm": {
     "name": "#%%\n"
    }
   },
   "outputs": [],
   "source": [
    "# connect to neo4j\n",
    "connector = Neo4jConnector()\n",
    "connector.connect_driver()\n",
    "\n",
    "graphGenerator = IFCGraphGenerator(connector, model_paths[0], None)\n",
    "print('[INFO] Generating host graph... ' )\n",
    "ts_host = graphGenerator.generateGraph()\n",
    "\n",
    "# finally disconnect\n",
    "connector.disconnect_driver()"
   ]
  },
  {
   "cell_type": "code",
   "execution_count": null,
   "outputs": [],
   "source": [
    "# connect to neo4j\n",
    "connector = Neo4jConnector()\n",
    "connector.connect_driver()\n",
    "\n",
    "update_patch.apply(ts_host)\n",
    "\n",
    "# finally disconnect\n",
    "connector.disconnect_driver()"
   ],
   "metadata": {
    "collapsed": false,
    "pycharm": {
     "name": "#%%\n"
    }
   }
  }
 ],
 "metadata": {
  "kernelspec": {
   "display_name": "Python 3 (ipykernel)",
   "language": "python",
   "name": "python3"
  },
  "language_info": {
   "codemirror_mode": {
    "name": "ipython",
    "version": 3
   },
   "file_extension": ".py",
   "mimetype": "text/x-python",
   "name": "python",
   "nbconvert_exporter": "python",
   "pygments_lexer": "ipython3",
   "version": "3.8.12"
  }
 },
 "nbformat": 4,
 "nbformat_minor": 1
}