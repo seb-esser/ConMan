{
 "cells": [
  {
   "cell_type": "markdown",
   "metadata": {
    "pycharm": {
     "name": "#%% md\n"
    },
    "slideshow": {
     "slide_type": "slide"
    }
   },
   "source": [
    "# Content:\n",
    "\n",
    "- parse IFC models into graph database\n",
    "- run Diff\n",
    "- generate patch\n",
    "- apply patch"
   ]
  },
  {
   "cell_type": "markdown",
   "metadata": {
    "pycharm": {
     "name": "#%% md\n"
    }
   },
   "source": [
    "## Parse BIM models into graph database"
   ]
  },
  {
   "cell_type": "code",
   "execution_count": 2,
   "metadata": {
    "pycharm": {
     "name": "#%%\n"
    }
   },
   "outputs": [
    {
     "name": "stdout",
     "output_type": "stream",
     "text": [
      "[INFO] Parsing Ifc StepP21 model to Neo4j.... \n",
      "\n",
      "Initialized new Connector instance.\n",
      "[INFO] Starting to generate graphs...\n",
      "Generating Graph 1/2\n",
      "[IFC_P21 > ts20220510T081220 < ]: Generating graph... \n",
      "[#---------------------------------------------------------------------------------------------------] 0% done.\r"
     ]
    },
    {
     "ename": "Exception",
     "evalue": "Tried to encode the attribute type of primary_node_type #11773 clsName: IfcRelDefinesByProperties attribute RelatingPropertyDefinition. Please check your graph translator.",
     "output_type": "error",
     "traceback": [
      "\u001B[1;31m---------------------------------------------------------------------------\u001B[0m",
      "\u001B[1;31mException\u001B[0m                                 Traceback (most recent call last)",
      "Input \u001B[1;32mIn [2]\u001B[0m, in \u001B[0;36m<cell line: 24>\u001B[1;34m()\u001B[0m\n\u001B[0;32m     26\u001B[0m     graphGenerator \u001B[38;5;241m=\u001B[39m IFCGraphGenerator(connector, path, \u001B[38;5;28;01mNone\u001B[39;00m)\n\u001B[0;32m     27\u001B[0m     \u001B[38;5;28mprint\u001B[39m(\u001B[38;5;124m'\u001B[39m\u001B[38;5;124mGenerating Graph \u001B[39m\u001B[38;5;132;01m%d\u001B[39;00m\u001B[38;5;124m/\u001B[39m\u001B[38;5;132;01m%d\u001B[39;00m\u001B[38;5;124m'\u001B[39m \u001B[38;5;241m%\u001B[39m (idx \u001B[38;5;241m+\u001B[39m \u001B[38;5;241m1\u001B[39m, amount))\n\u001B[1;32m---> 28\u001B[0m     label \u001B[38;5;241m=\u001B[39m \u001B[43mgraphGenerator\u001B[49m\u001B[38;5;241;43m.\u001B[39;49m\u001B[43mgenerateGraph\u001B[49m\u001B[43m(\u001B[49m\u001B[43m)\u001B[49m\n\u001B[0;32m     29\u001B[0m     model_labels\u001B[38;5;241m.\u001B[39mappend(label)\n\u001B[0;32m     31\u001B[0m finish \u001B[38;5;241m=\u001B[39m time\u001B[38;5;241m.\u001B[39mperf_counter()\n",
      "File \u001B[1;32mC:\\dev\\consistencyManager\\src\\IfcGraphInterface\\Ifc2GraphTranslator.py:86\u001B[0m, in \u001B[0;36mIFCGraphGenerator.generateGraph\u001B[1;34m(self)\u001B[0m\n\u001B[0;32m     84\u001B[0m     \u001B[38;5;28mself\u001B[39m\u001B[38;5;241m.\u001B[39m__map_entity(entity, \u001B[38;5;124m\"\u001B[39m\u001B[38;5;124mPrimaryNode\u001B[39m\u001B[38;5;124m\"\u001B[39m)\n\u001B[0;32m     85\u001B[0m \u001B[38;5;28;01melif\u001B[39;00m entity\u001B[38;5;241m.\u001B[39mis_a(\u001B[38;5;124m'\u001B[39m\u001B[38;5;124mIfcRelationship\u001B[39m\u001B[38;5;124m'\u001B[39m):\n\u001B[1;32m---> 86\u001B[0m     \u001B[38;5;28;43mself\u001B[39;49m\u001B[38;5;241;43m.\u001B[39;49m\u001B[43m__map_entity\u001B[49m\u001B[43m(\u001B[49m\u001B[43mentity\u001B[49m\u001B[43m,\u001B[49m\u001B[43m \u001B[49m\u001B[38;5;124;43m\"\u001B[39;49m\u001B[38;5;124;43mConnectionNode\u001B[39;49m\u001B[38;5;124;43m\"\u001B[39;49m\u001B[43m)\u001B[49m\n\u001B[0;32m     87\u001B[0m \u001B[38;5;28;01melse\u001B[39;00m:\n\u001B[0;32m     88\u001B[0m     \u001B[38;5;28mself\u001B[39m\u001B[38;5;241m.\u001B[39m__map_entity(entity, \u001B[38;5;124m\"\u001B[39m\u001B[38;5;124mSecondaryNode\u001B[39m\u001B[38;5;124m\"\u001B[39m)\n",
      "File \u001B[1;32mC:\\dev\\consistencyManager\\src\\IfcGraphInterface\\Ifc2GraphTranslator.py:140\u001B[0m, in \u001B[0;36mIFCGraphGenerator.__map_entity\u001B[1;34m(self, entity, label)\u001B[0m\n\u001B[0;32m    137\u001B[0m info \u001B[38;5;241m=\u001B[39m entity\u001B[38;5;241m.\u001B[39mget_info()\n\u001B[0;32m    139\u001B[0m \u001B[38;5;66;03m# node_properties, single_associations, aggregated_associations = self.separate_attributes(primary_node_type)\u001B[39;00m\n\u001B[1;32m--> 140\u001B[0m node_properties, _, _ \u001B[38;5;241m=\u001B[39m \u001B[38;5;28;43mself\u001B[39;49m\u001B[38;5;241;43m.\u001B[39;49m\u001B[43mseparate_attributes\u001B[49m\u001B[43m(\u001B[49m\u001B[43mentity\u001B[49m\u001B[43m)\u001B[49m\n\u001B[0;32m    142\u001B[0m \u001B[38;5;66;03m# create a dictionary of properties\u001B[39;00m\n\u001B[0;32m    143\u001B[0m node_properties_dict \u001B[38;5;241m=\u001B[39m {}\n",
      "File \u001B[1;32mC:\\dev\\consistencyManager\\src\\IfcGraphInterface\\Ifc2GraphTranslator.py:381\u001B[0m, in \u001B[0;36mIFCGraphGenerator.separate_attributes\u001B[1;34m(self, entity)\u001B[0m\n\u001B[0;32m    379\u001B[0m             aggregated_associations\u001B[38;5;241m.\u001B[39mappend(attr\u001B[38;5;241m.\u001B[39mname())\n\u001B[0;32m    380\u001B[0m     \u001B[38;5;28;01melse\u001B[39;00m:\n\u001B[1;32m--> 381\u001B[0m         \u001B[38;5;28;01mraise\u001B[39;00m \u001B[38;5;167;01mException\u001B[39;00m(\u001B[38;5;124m'\u001B[39m\u001B[38;5;124mTried to encode the attribute type of primary_node_type #\u001B[39m\u001B[38;5;132;01m{}\u001B[39;00m\u001B[38;5;124m clsName: \u001B[39m\u001B[38;5;132;01m{}\u001B[39;00m\u001B[38;5;124m attribute \u001B[39m\u001B[38;5;132;01m{}\u001B[39;00m\u001B[38;5;124m. \u001B[39m\u001B[38;5;124m'\u001B[39m\n\u001B[0;32m    382\u001B[0m                         \u001B[38;5;124m'\u001B[39m\u001B[38;5;124mPlease check your graph translator.\u001B[39m\u001B[38;5;124m'\u001B[39m\u001B[38;5;241m.\u001B[39mformat(entity_id, clsName, attr\u001B[38;5;241m.\u001B[39mname()))\n\u001B[0;32m    383\u001B[0m node_attributes\u001B[38;5;241m.\u001B[39mappend(\u001B[38;5;124m'\u001B[39m\u001B[38;5;124mid\u001B[39m\u001B[38;5;124m'\u001B[39m)\n\u001B[0;32m    384\u001B[0m node_attributes\u001B[38;5;241m.\u001B[39mappend(\u001B[38;5;124m'\u001B[39m\u001B[38;5;124mtype\u001B[39m\u001B[38;5;124m'\u001B[39m)\n",
      "\u001B[1;31mException\u001B[0m: Tried to encode the attribute type of primary_node_type #11773 clsName: IfcRelDefinesByProperties attribute RelatingPropertyDefinition. Please check your graph translator."
     ]
    }
   ],
   "source": [
    "import time\n",
    "from typing import List\n",
    "\n",
    "from IfcGraphInterface.Ifc2GraphTranslator import IFCGraphGenerator\n",
    "from neo4j_middleware.neo4jConnector import Neo4jConnector\n",
    "\n",
    "print('[INFO] Parsing Ifc StepP21 model to Neo4j.... \\n')\n",
    "\n",
    "# connect to neo4j\n",
    "connector = Neo4jConnector()\n",
    "connector.connect_driver()\n",
    "\n",
    "# paths to IFC models\n",
    "model_paths: List[str] = [\n",
    "    './00_sampleData/IFC_stepP21/Fahrzeughalle/Fahrzeughalle.ifc',\n",
    "    './00_sampleData/IFC_stepP21/Fahrzeughalle/Fahrzeughalle_updt.ifc']\n",
    "\n",
    "print('[INFO] Starting to generate graphs...')\n",
    "amount = len(model_paths)\n",
    "start = time.perf_counter()\n",
    "\n",
    "model_labels = []\n",
    "\n",
    "for idx, path in enumerate(model_paths):\n",
    "    # parse model\n",
    "    graphGenerator = IFCGraphGenerator(connector, path, None)\n",
    "    print('Generating Graph %d/%d' % (idx + 1, amount))\n",
    "    label = graphGenerator.generateGraph()\n",
    "    model_labels.append(label)\n",
    "\n",
    "finish = time.perf_counter()\n",
    "print('\\n[INFO] 100% done. Graphs generated. Finished in {} seconds.'.format(round(finish - start, 2)))\n",
    "# disconnect from database\n",
    "connector.disconnect_driver()\n",
    "\n",
    "label_init = model_labels[0]\n",
    "label_updated = model_labels[1]\n",
    "\n",
    "del idx, finish, start, model_labels, label, graphGenerator"
   ]
  },
  {
   "cell_type": "markdown",
   "metadata": {
    "pycharm": {
     "name": "#%% md\n"
    }
   },
   "source": [
    "## Run diff"
   ]
  },
  {
   "cell_type": "markdown",
   "metadata": {
    "pycharm": {
     "name": "#%% md\n"
    }
   },
   "source": [
    "runs the depth-first traversal to compare both model graphs and connects equivalent nodes using `EQUIVALENT_TO` edges"
   ]
  },
  {
   "cell_type": "code",
   "execution_count": 1,
   "metadata": {
    "pycharm": {
     "name": "#%%\n"
    }
   },
   "outputs": [
    {
     "name": "stdout",
     "output_type": "stream",
     "text": [
      "Run Diff ... \n",
      "\n",
      "Initialized new Connector instance.\n",
      "[DIFF] Running subgraph Diff under PrimaryNodes 23264 and 34791\n",
      "[DIFF] Running subgraph Diff under PrimaryNodes 23261 and 34788\n",
      "[DIFF] Running subgraph Diff under PrimaryNodes 12058 and 23585\n",
      "[DIFF] Running subgraph Diff under PrimaryNodes 12670 and 24197\n"
     ]
    },
    {
     "ename": "KeyboardInterrupt",
     "evalue": "",
     "output_type": "error",
     "traceback": [
      "\u001B[1;31m---------------------------------------------------------------------------\u001B[0m",
      "\u001B[1;31mKeyboardInterrupt\u001B[0m                         Traceback (most recent call last)",
      "Input \u001B[1;32mIn [1]\u001B[0m, in \u001B[0;36m<cell line: 32>\u001B[1;34m()\u001B[0m\n\u001B[0;32m     30\u001B[0m \u001B[38;5;66;03m# run diff\u001B[39;00m\n\u001B[0;32m     31\u001B[0m pDiff \u001B[38;5;241m=\u001B[39m GraphDiff(connector\u001B[38;5;241m=\u001B[39mconnector, ts_init\u001B[38;5;241m=\u001B[39mlabel_init, ts_updated\u001B[38;5;241m=\u001B[39mlabel_updated)\n\u001B[1;32m---> 32\u001B[0m delta \u001B[38;5;241m=\u001B[39m \u001B[43mpDiff\u001B[49m\u001B[38;5;241;43m.\u001B[39;49m\u001B[43mdiff_subgraphs\u001B[49m\u001B[43m(\u001B[49m\u001B[43mentry_init\u001B[49m\u001B[43m,\u001B[49m\u001B[43m \u001B[49m\u001B[43mentry_updated\u001B[49m\u001B[43m)\u001B[49m\n\u001B[0;32m     34\u001B[0m \u001B[38;5;66;03m# Create EQUIVALENT_TO relationships to mark all nodePairs that are matched\u001B[39;00m\n\u001B[0;32m     35\u001B[0m \u001B[38;5;28mprint\u001B[39m(\u001B[38;5;124m'\u001B[39m\u001B[38;5;124m[INFO] building EQUIVALENT_TO edges ... \u001B[39m\u001B[38;5;124m'\u001B[39m)\n",
      "File \u001B[1;32mC:\\dev\\consistencyManager\\src\\neo4jGraphDiff\\GraphDiff.py:36\u001B[0m, in \u001B[0;36mGraphDiff.diff_subgraphs\u001B[1;34m(self, entry_init, entry_updated)\u001B[0m\n\u001B[0;32m     28\u001B[0m \u001B[38;5;124;03m\"\"\"\u001B[39;00m\n\u001B[0;32m     29\u001B[0m \u001B[38;5;124;03mRENAME TO calculate_graph_delta()\u001B[39;00m\n\u001B[0;32m     30\u001B[0m \u001B[38;5;124;03mperforms a hierarchy-driven substructure traversal. GraphDelta is available under self.delta\u001B[39;00m\n\u001B[1;32m   (...)\u001B[0m\n\u001B[0;32m     33\u001B[0m \u001B[38;5;124;03m@return:\u001B[39;00m\n\u001B[0;32m     34\u001B[0m \u001B[38;5;124;03m\"\"\"\u001B[39;00m\n\u001B[0;32m     35\u001B[0m \u001B[38;5;66;03m# recursion over hierarchical breakdown\u001B[39;00m\n\u001B[1;32m---> 36\u001B[0m \u001B[38;5;28;43mself\u001B[39;49m\u001B[38;5;241;43m.\u001B[39;49m\u001B[43m__move_level_down\u001B[49m\u001B[43m(\u001B[49m\u001B[43mentry_init\u001B[49m\u001B[43m,\u001B[49m\u001B[43m \u001B[49m\u001B[43mentry_updated\u001B[49m\u001B[43m)\u001B[49m\n\u001B[0;32m     38\u001B[0m \u001B[38;5;66;03m#  --- post processing ---\u001B[39;00m\n\u001B[0;32m     39\u001B[0m prim_nodes_init \u001B[38;5;241m=\u001B[39m [x\u001B[38;5;241m.\u001B[39minit_node \u001B[38;5;28;01mfor\u001B[39;00m x \u001B[38;5;129;01min\u001B[39;00m\n\u001B[0;32m     40\u001B[0m                    \u001B[38;5;28mself\u001B[39m\u001B[38;5;241m.\u001B[39mresource_diff\u001B[38;5;241m.\u001B[39mresult\u001B[38;5;241m.\u001B[39mnode_matching_table\u001B[38;5;241m.\u001B[39mget_all_primaryNode_pairs()]\n",
      "File \u001B[1;32mC:\\dev\\consistencyManager\\src\\neo4jGraphDiff\\GraphDiff.py:156\u001B[0m, in \u001B[0;36mGraphDiff.__move_level_down\u001B[1;34m(self, entry_init, entry_updated)\u001B[0m\n\u001B[0;32m    153\u001B[0m \u001B[38;5;28;01mfor\u001B[39;00m pair \u001B[38;5;129;01min\u001B[39;00m unc:\n\u001B[0;32m    154\u001B[0m     \u001B[38;5;28;01mif\u001B[39;00m NodePair(pair[\u001B[38;5;241m0\u001B[39m],\n\u001B[0;32m    155\u001B[0m                 pair[\u001B[38;5;241m1\u001B[39m]) \u001B[38;5;129;01mnot\u001B[39;00m \u001B[38;5;129;01min\u001B[39;00m \u001B[38;5;28mself\u001B[39m\u001B[38;5;241m.\u001B[39mresource_diff\u001B[38;5;241m.\u001B[39mresult\u001B[38;5;241m.\u001B[39mnode_matching_table\u001B[38;5;241m.\u001B[39mget_all_primaryNode_pairs():\n\u001B[1;32m--> 156\u001B[0m         \u001B[38;5;28;43mself\u001B[39;49m\u001B[38;5;241;43m.\u001B[39;49m\u001B[43m__move_level_down\u001B[49m\u001B[43m(\u001B[49m\u001B[43mpair\u001B[49m\u001B[43m[\u001B[49m\u001B[38;5;241;43m0\u001B[39;49m\u001B[43m]\u001B[49m\u001B[43m,\u001B[49m\u001B[43m \u001B[49m\u001B[43mpair\u001B[49m\u001B[43m[\u001B[49m\u001B[38;5;241;43m1\u001B[39;49m\u001B[43m]\u001B[49m\u001B[43m)\u001B[49m\n",
      "File \u001B[1;32mC:\\dev\\consistencyManager\\src\\neo4jGraphDiff\\GraphDiff.py:156\u001B[0m, in \u001B[0;36mGraphDiff.__move_level_down\u001B[1;34m(self, entry_init, entry_updated)\u001B[0m\n\u001B[0;32m    153\u001B[0m \u001B[38;5;28;01mfor\u001B[39;00m pair \u001B[38;5;129;01min\u001B[39;00m unc:\n\u001B[0;32m    154\u001B[0m     \u001B[38;5;28;01mif\u001B[39;00m NodePair(pair[\u001B[38;5;241m0\u001B[39m],\n\u001B[0;32m    155\u001B[0m                 pair[\u001B[38;5;241m1\u001B[39m]) \u001B[38;5;129;01mnot\u001B[39;00m \u001B[38;5;129;01min\u001B[39;00m \u001B[38;5;28mself\u001B[39m\u001B[38;5;241m.\u001B[39mresource_diff\u001B[38;5;241m.\u001B[39mresult\u001B[38;5;241m.\u001B[39mnode_matching_table\u001B[38;5;241m.\u001B[39mget_all_primaryNode_pairs():\n\u001B[1;32m--> 156\u001B[0m         \u001B[38;5;28;43mself\u001B[39;49m\u001B[38;5;241;43m.\u001B[39;49m\u001B[43m__move_level_down\u001B[49m\u001B[43m(\u001B[49m\u001B[43mpair\u001B[49m\u001B[43m[\u001B[49m\u001B[38;5;241;43m0\u001B[39;49m\u001B[43m]\u001B[49m\u001B[43m,\u001B[49m\u001B[43m \u001B[49m\u001B[43mpair\u001B[49m\u001B[43m[\u001B[49m\u001B[38;5;241;43m1\u001B[39;49m\u001B[43m]\u001B[49m\u001B[43m)\u001B[49m\n",
      "File \u001B[1;32mC:\\dev\\consistencyManager\\src\\neo4jGraphDiff\\GraphDiff.py:156\u001B[0m, in \u001B[0;36mGraphDiff.__move_level_down\u001B[1;34m(self, entry_init, entry_updated)\u001B[0m\n\u001B[0;32m    153\u001B[0m \u001B[38;5;28;01mfor\u001B[39;00m pair \u001B[38;5;129;01min\u001B[39;00m unc:\n\u001B[0;32m    154\u001B[0m     \u001B[38;5;28;01mif\u001B[39;00m NodePair(pair[\u001B[38;5;241m0\u001B[39m],\n\u001B[0;32m    155\u001B[0m                 pair[\u001B[38;5;241m1\u001B[39m]) \u001B[38;5;129;01mnot\u001B[39;00m \u001B[38;5;129;01min\u001B[39;00m \u001B[38;5;28mself\u001B[39m\u001B[38;5;241m.\u001B[39mresource_diff\u001B[38;5;241m.\u001B[39mresult\u001B[38;5;241m.\u001B[39mnode_matching_table\u001B[38;5;241m.\u001B[39mget_all_primaryNode_pairs():\n\u001B[1;32m--> 156\u001B[0m         \u001B[38;5;28;43mself\u001B[39;49m\u001B[38;5;241;43m.\u001B[39;49m\u001B[43m__move_level_down\u001B[49m\u001B[43m(\u001B[49m\u001B[43mpair\u001B[49m\u001B[43m[\u001B[49m\u001B[38;5;241;43m0\u001B[39;49m\u001B[43m]\u001B[49m\u001B[43m,\u001B[49m\u001B[43m \u001B[49m\u001B[43mpair\u001B[49m\u001B[43m[\u001B[49m\u001B[38;5;241;43m1\u001B[39;49m\u001B[43m]\u001B[49m\u001B[43m)\u001B[49m\n",
      "File \u001B[1;32mC:\\dev\\consistencyManager\\src\\neo4jGraphDiff\\GraphDiff.py:99\u001B[0m, in \u001B[0;36mGraphDiff.__move_level_down\u001B[1;34m(self, entry_init, entry_updated)\u001B[0m\n\u001B[0;32m     97\u001B[0m \u001B[38;5;28mprint\u001B[39m(\u001B[38;5;124m'\u001B[39m\u001B[38;5;124m[DIFF] Running subgraph Diff under PrimaryNodes \u001B[39m\u001B[38;5;132;01m{}\u001B[39;00m\u001B[38;5;124m and \u001B[39m\u001B[38;5;132;01m{}\u001B[39;00m\u001B[38;5;124m'\u001B[39m\u001B[38;5;241m.\u001B[39mformat(entry_init\u001B[38;5;241m.\u001B[39mid, entry_updated\u001B[38;5;241m.\u001B[39mid))\n\u001B[0;32m     98\u001B[0m \u001B[38;5;66;03m# run diff and get node matching\u001B[39;00m\n\u001B[1;32m---> 99\u001B[0m \u001B[38;5;28;43mself\u001B[39;49m\u001B[38;5;241;43m.\u001B[39;49m\u001B[43mresource_diff\u001B[49m\u001B[38;5;241;43m.\u001B[39;49m\u001B[43mdiff_subgraphs\u001B[49m\u001B[43m(\u001B[49m\u001B[43mentry_init\u001B[49m\u001B[43m,\u001B[49m\u001B[43m \u001B[49m\u001B[43mentry_updated\u001B[49m\u001B[43m)\u001B[49m\n\u001B[0;32m    101\u001B[0m \u001B[38;5;66;03m# run subgraph diff again and consider already matched node pairs now\u001B[39;00m\n\u001B[0;32m    102\u001B[0m \u001B[38;5;66;03m# query next primary nodes\u001B[39;00m\n\u001B[0;32m    103\u001B[0m cy_next_nodes_init \u001B[38;5;241m=\u001B[39m Neo4jQueryFactory\u001B[38;5;241m.\u001B[39mget_hierarchical_prim_nodes(\n\u001B[0;32m    104\u001B[0m     node_id\u001B[38;5;241m=\u001B[39mentry_init\u001B[38;5;241m.\u001B[39mid,\n\u001B[0;32m    105\u001B[0m     exclude_nodes\u001B[38;5;241m=\u001B[39m\u001B[38;5;28mself\u001B[39m\u001B[38;5;241m.\u001B[39mresource_diff\u001B[38;5;241m.\u001B[39mresult\u001B[38;5;241m.\u001B[39mnode_matching_table\u001B[38;5;241m.\u001B[39mget_all_primaryNode_pairs())\n",
      "File \u001B[1;32mC:\\dev\\consistencyManager\\src\\neo4jGraphDiff\\ResourceDiff.py:46\u001B[0m, in \u001B[0;36mResourceDiff.diff_subgraphs\u001B[1;34m(self, node_init, node_updated)\u001B[0m\n\u001B[0;32m     43\u001B[0m \u001B[38;5;28mself\u001B[39m\u001B[38;5;241m.\u001B[39mcurrent_prim_updated \u001B[38;5;241m=\u001B[39m node_updated\n\u001B[0;32m     45\u001B[0m \u001B[38;5;66;03m# start recursion on resource structure\u001B[39;00m\n\u001B[1;32m---> 46\u001B[0m \u001B[38;5;28;43mself\u001B[39;49m\u001B[38;5;241;43m.\u001B[39;49m\u001B[43m__compare_and_continue\u001B[49m\u001B[43m(\u001B[49m\u001B[43mnode_init\u001B[49m\u001B[43m,\u001B[49m\u001B[43m \u001B[49m\u001B[43mnode_updated\u001B[49m\u001B[43m,\u001B[49m\u001B[43m \u001B[49m\u001B[43mindent\u001B[49m\u001B[38;5;241;43m=\u001B[39;49m\u001B[38;5;241;43m0\u001B[39;49m\u001B[43m)\u001B[49m\n\u001B[0;32m     48\u001B[0m \u001B[38;5;28;01mreturn\u001B[39;00m \u001B[38;5;28mself\u001B[39m\u001B[38;5;241m.\u001B[39mresult\n",
      "File \u001B[1;32mC:\\dev\\consistencyManager\\src\\neo4jGraphDiff\\ResourceDiff.py:121\u001B[0m, in \u001B[0;36mResourceDiff.__compare_and_continue\u001B[1;34m(self, node_init, node_updated, indent)\u001B[0m\n\u001B[0;32m    118\u001B[0m             \u001B[38;5;28mself\u001B[39m\u001B[38;5;241m.\u001B[39mresult\u001B[38;5;241m.\u001B[39mnode_matching_table\u001B[38;5;241m.\u001B[39madd_matched_nodes(n1, n2)\n\u001B[0;32m    120\u001B[0m     \u001B[38;5;66;03m# run recursion for children if \"NoChange\" or \"Modified\" happened\u001B[39;00m\n\u001B[1;32m--> 121\u001B[0m     \u001B[38;5;28;43mself\u001B[39;49m\u001B[38;5;241;43m.\u001B[39;49m\u001B[43m__compare_and_continue\u001B[49m\u001B[43m(\u001B[49m\u001B[43mmatchingChildPair\u001B[49m\u001B[43m[\u001B[49m\u001B[38;5;241;43m0\u001B[39;49m\u001B[43m]\u001B[49m\u001B[43m,\u001B[49m\u001B[43m \u001B[49m\u001B[43mmatchingChildPair\u001B[49m\u001B[43m[\u001B[49m\u001B[38;5;241;43m1\u001B[39;49m\u001B[43m]\u001B[49m\u001B[43m,\u001B[49m\u001B[43m \u001B[49m\u001B[43mindent\u001B[49m\u001B[38;5;241;43m=\u001B[39;49m\u001B[43mindent\u001B[49m\u001B[43m \u001B[49m\u001B[38;5;241;43m+\u001B[39;49m\u001B[43m \u001B[49m\u001B[38;5;241;43m1\u001B[39;49m\u001B[43m)\u001B[49m\n\u001B[0;32m    123\u001B[0m \u001B[38;5;28;01mreturn\u001B[39;00m\n",
      "File \u001B[1;32mC:\\dev\\consistencyManager\\src\\neo4jGraphDiff\\ResourceDiff.py:121\u001B[0m, in \u001B[0;36mResourceDiff.__compare_and_continue\u001B[1;34m(self, node_init, node_updated, indent)\u001B[0m\n\u001B[0;32m    118\u001B[0m             \u001B[38;5;28mself\u001B[39m\u001B[38;5;241m.\u001B[39mresult\u001B[38;5;241m.\u001B[39mnode_matching_table\u001B[38;5;241m.\u001B[39madd_matched_nodes(n1, n2)\n\u001B[0;32m    120\u001B[0m     \u001B[38;5;66;03m# run recursion for children if \"NoChange\" or \"Modified\" happened\u001B[39;00m\n\u001B[1;32m--> 121\u001B[0m     \u001B[38;5;28;43mself\u001B[39;49m\u001B[38;5;241;43m.\u001B[39;49m\u001B[43m__compare_and_continue\u001B[49m\u001B[43m(\u001B[49m\u001B[43mmatchingChildPair\u001B[49m\u001B[43m[\u001B[49m\u001B[38;5;241;43m0\u001B[39;49m\u001B[43m]\u001B[49m\u001B[43m,\u001B[49m\u001B[43m \u001B[49m\u001B[43mmatchingChildPair\u001B[49m\u001B[43m[\u001B[49m\u001B[38;5;241;43m1\u001B[39;49m\u001B[43m]\u001B[49m\u001B[43m,\u001B[49m\u001B[43m \u001B[49m\u001B[43mindent\u001B[49m\u001B[38;5;241;43m=\u001B[39;49m\u001B[43mindent\u001B[49m\u001B[43m \u001B[49m\u001B[38;5;241;43m+\u001B[39;49m\u001B[43m \u001B[49m\u001B[38;5;241;43m1\u001B[39;49m\u001B[43m)\u001B[49m\n\u001B[0;32m    123\u001B[0m \u001B[38;5;28;01mreturn\u001B[39;00m\n",
      "    \u001B[1;31m[... skipping similar frames: ResourceDiff.__compare_and_continue at line 121 (3 times)]\u001B[0m\n",
      "File \u001B[1;32mC:\\dev\\consistencyManager\\src\\neo4jGraphDiff\\ResourceDiff.py:121\u001B[0m, in \u001B[0;36mResourceDiff.__compare_and_continue\u001B[1;34m(self, node_init, node_updated, indent)\u001B[0m\n\u001B[0;32m    118\u001B[0m             \u001B[38;5;28mself\u001B[39m\u001B[38;5;241m.\u001B[39mresult\u001B[38;5;241m.\u001B[39mnode_matching_table\u001B[38;5;241m.\u001B[39madd_matched_nodes(n1, n2)\n\u001B[0;32m    120\u001B[0m     \u001B[38;5;66;03m# run recursion for children if \"NoChange\" or \"Modified\" happened\u001B[39;00m\n\u001B[1;32m--> 121\u001B[0m     \u001B[38;5;28;43mself\u001B[39;49m\u001B[38;5;241;43m.\u001B[39;49m\u001B[43m__compare_and_continue\u001B[49m\u001B[43m(\u001B[49m\u001B[43mmatchingChildPair\u001B[49m\u001B[43m[\u001B[49m\u001B[38;5;241;43m0\u001B[39;49m\u001B[43m]\u001B[49m\u001B[43m,\u001B[49m\u001B[43m \u001B[49m\u001B[43mmatchingChildPair\u001B[49m\u001B[43m[\u001B[49m\u001B[38;5;241;43m1\u001B[39;49m\u001B[43m]\u001B[49m\u001B[43m,\u001B[49m\u001B[43m \u001B[49m\u001B[43mindent\u001B[49m\u001B[38;5;241;43m=\u001B[39;49m\u001B[43mindent\u001B[49m\u001B[43m \u001B[49m\u001B[38;5;241;43m+\u001B[39;49m\u001B[43m \u001B[49m\u001B[38;5;241;43m1\u001B[39;49m\u001B[43m)\u001B[49m\n\u001B[0;32m    123\u001B[0m \u001B[38;5;28;01mreturn\u001B[39;00m\n",
      "File \u001B[1;32mC:\\dev\\consistencyManager\\src\\neo4jGraphDiff\\ResourceDiff.py:113\u001B[0m, in \u001B[0;36mResourceDiff.__compare_and_continue\u001B[1;34m(self, node_init, node_updated, indent)\u001B[0m\n\u001B[0;32m    110\u001B[0m \u001B[38;5;28;01mfor\u001B[39;00m matchingChildPair \u001B[38;5;129;01min\u001B[39;00m nodes_unchanged:\n\u001B[0;32m    112\u001B[0m     \u001B[38;5;28;01mfor\u001B[39;00m n1, n2 \u001B[38;5;129;01min\u001B[39;00m nodes_unchanged:\n\u001B[1;32m--> 113\u001B[0m         \u001B[38;5;28;01mif\u001B[39;00m \u001B[38;5;28;43mself\u001B[39;49m\u001B[38;5;241;43m.\u001B[39;49m\u001B[43mresult\u001B[49m\u001B[38;5;241;43m.\u001B[39;49m\u001B[43mnode_matching_table\u001B[49m\u001B[38;5;241;43m.\u001B[39;49m\u001B[43mnode_pair_in_matching_table\u001B[49m\u001B[43m(\u001B[49m\u001B[43mNodePair\u001B[49m\u001B[43m(\u001B[49m\u001B[43mn1\u001B[49m\u001B[43m,\u001B[49m\u001B[43m \u001B[49m\u001B[43mn2\u001B[49m\u001B[43m)\u001B[49m\u001B[43m)\u001B[49m:\n\u001B[0;32m    114\u001B[0m             \u001B[38;5;66;03m# logged this pair already, continue for loop\u001B[39;00m\n\u001B[0;32m    115\u001B[0m             \u001B[38;5;28;01mcontinue\u001B[39;00m\n\u001B[0;32m    116\u001B[0m         \u001B[38;5;28;01melse\u001B[39;00m:\n\u001B[0;32m    117\u001B[0m             \u001B[38;5;66;03m# log the pair as similar_to\u001B[39;00m\n",
      "File \u001B[1;32mC:\\dev\\consistencyManager\\src\\neo4jGraphDiff\\Caption\\NodeMatchingTable.py:57\u001B[0m, in \u001B[0;36mNodeMatchingTable.node_pair_in_matching_table\u001B[1;34m(self, pair)\u001B[0m\n\u001B[0;32m     51\u001B[0m \u001B[38;5;28;01mdef\u001B[39;00m \u001B[38;5;21mnode_pair_in_matching_table\u001B[39m(\u001B[38;5;28mself\u001B[39m, pair):\n\u001B[0;32m     52\u001B[0m     \u001B[38;5;124;03m\"\"\"\u001B[39;00m\n\u001B[0;32m     53\u001B[0m \u001B[38;5;124;03m    returns true if a NodePair item is already listed in the matching table\u001B[39;00m\n\u001B[0;32m     54\u001B[0m \u001B[38;5;124;03m    @param pair:\u001B[39;00m\n\u001B[0;32m     55\u001B[0m \u001B[38;5;124;03m    @return:\u001B[39;00m\n\u001B[0;32m     56\u001B[0m \u001B[38;5;124;03m    \"\"\"\u001B[39;00m\n\u001B[1;32m---> 57\u001B[0m     \u001B[38;5;28;01mif\u001B[39;00m \u001B[43mpair\u001B[49m\u001B[43m \u001B[49m\u001B[38;5;129;43;01min\u001B[39;49;00m\u001B[43m \u001B[49m\u001B[38;5;28;43mself\u001B[39;49m\u001B[38;5;241;43m.\u001B[39;49m\u001B[43mmatched_nodes\u001B[49m:\n\u001B[0;32m     58\u001B[0m         \u001B[38;5;28;01mreturn\u001B[39;00m \u001B[38;5;28;01mTrue\u001B[39;00m\n\u001B[0;32m     59\u001B[0m     \u001B[38;5;28;01melse\u001B[39;00m:\n",
      "File \u001B[1;32mC:\\dev\\consistencyManager\\src\\neo4jGraphDiff\\Caption\\NodeMatchingTable.py:108\u001B[0m, in \u001B[0;36mNodePair.__eq__\u001B[1;34m(self, other)\u001B[0m\n\u001B[0;32m    107\u001B[0m \u001B[38;5;28;01mdef\u001B[39;00m \u001B[38;5;21m__eq__\u001B[39m(\u001B[38;5;28mself\u001B[39m, other):\n\u001B[1;32m--> 108\u001B[0m     \u001B[38;5;28;01mif\u001B[39;00m \u001B[38;5;28;43mself\u001B[39;49m\u001B[38;5;241;43m.\u001B[39;49m\u001B[43minit_node\u001B[49m\u001B[38;5;241m.\u001B[39mid \u001B[38;5;241m==\u001B[39m other\u001B[38;5;241m.\u001B[39minit_node\u001B[38;5;241m.\u001B[39mid \u001B[38;5;129;01mand\u001B[39;00m \u001B[38;5;28mself\u001B[39m\u001B[38;5;241m.\u001B[39mupdated_node\u001B[38;5;241m.\u001B[39mid \u001B[38;5;241m==\u001B[39m other\u001B[38;5;241m.\u001B[39mupdated_node\u001B[38;5;241m.\u001B[39mid:\n\u001B[0;32m    109\u001B[0m         \u001B[38;5;28;01mreturn\u001B[39;00m \u001B[38;5;28;01mTrue\u001B[39;00m\n\u001B[0;32m    110\u001B[0m     \u001B[38;5;28;01melse\u001B[39;00m:\n",
      "\u001B[1;31mKeyboardInterrupt\u001B[0m: "
     ]
    }
   ],
   "source": [
    "from neo4jGraphDiff.GraphDiff import GraphDiff\n",
    "from neo4j_middleware.ResponseParser.NodeItem import NodeItem\n",
    "from neo4j_middleware.neo4jConnector import Neo4jConnector\n",
    "import jsonpickle\n",
    "\n",
    "print('Run Diff ... \\n')\n",
    "\n",
    "# connect to neo4j\n",
    "connector = Neo4jConnector()\n",
    "connector.connect_driver()\n",
    "\n",
    "label_init = \"ts20220510T140147\"\n",
    "label_updated = \"ts20220510T140041\"\n",
    "\n",
    "# get topmost entry nodes\n",
    "raw_init = connector.run_cypher_statement(\n",
    "    \"\"\"\n",
    "    MATCH (n:PrimaryNode:{} {{EntityType: \"IfcProject\"}})\n",
    "    RETURN ID(n), n.EntityType, PROPERTIES(n), LABELS(n)\n",
    "    \"\"\".format(label_init))\n",
    "raw_updated = connector.run_cypher_statement(\n",
    "    \"\"\"\n",
    "    MATCH (n:PrimaryNode:{} {{EntityType: \"IfcProject\"}})\n",
    "    RETURN ID(n), n.EntityType, PROPERTIES(n), LABELS(n)\n",
    "    \"\"\".format(label_updated))\n",
    "\n",
    "entry_init: NodeItem = NodeItem.from_neo4j_response_wou_rel(raw_init)[0]\n",
    "entry_updated: NodeItem = NodeItem.from_neo4j_response_wou_rel(raw_updated)[0]\n",
    "\n",
    "# run diff\n",
    "pDiff = GraphDiff(connector=connector, ts_init=label_init, ts_updated=label_updated)\n",
    "delta = pDiff.diff_subgraphs(entry_init, entry_updated)\n",
    "\n",
    "# Create EQUIVALENT_TO relationships to mark all nodePairs that are matched\n",
    "print('[INFO] building EQUIVALENT_TO edges ... ')\n",
    "pDiff.build_equivalent_to_edges()\n",
    "print('[INFO] building EQUIVALENT_TO edges: DONE. ')\n",
    "\n",
    "# store result\n",
    "print('[INFO] saving delta ... ')\n",
    "f = open('GraphDelta_init{}-updt{}.json'.format(label_init, label_updated), 'w')\n",
    "f.write(jsonpickle.dumps(delta))\n",
    "f.close()\n",
    "print('[INFO] saving delta: DONE. ')\n",
    "\n",
    "\n",
    "connector.disconnect_driver()\n",
    "del raw_init, raw_updated, entry_init, entry_updated, GraphDiff, f"
   ]
  },
  {
   "cell_type": "markdown",
   "metadata": {
    "pycharm": {
     "name": "#%% md\n"
    }
   },
   "source": [
    "## Generate patch"
   ]
  },
  {
   "cell_type": "code",
   "execution_count": 7,
   "metadata": {
    "pycharm": {
     "name": "#%%\n"
    }
   },
   "outputs": [
    {
     "name": "stdout",
     "output_type": "stream",
     "text": [
      "Initialized new Connector instance.\n",
      "[INFO] loading delta json....\n",
      "[INFO] loading delta json: DONE.\n",
      "[INFO] generate patch ....\n",
      "[INFO] generate patch: DONE.\n",
      "[INFO] saving patch ... \n",
      "[INFO] saving patch: DONE. \n"
     ]
    }
   ],
   "source": [
    "from PatchManager.PatchService import PatchService\n",
    "from neo4j_middleware.neo4jConnector import Neo4jConnector\n",
    "\n",
    "connector = Neo4jConnector()\n",
    "connector.connect_driver()\n",
    "\n",
    "service = PatchService()\n",
    "service.load_delta('GraphDelta_init{}-updt{}.json'.format(label_init, label_updated))\n",
    "\n",
    "patch = service.generate_DPO_patch(connector=connector)\n",
    "\n",
    "service.save_patch_to_json(patch)\n",
    "\n",
    "# visualize results\n",
    "# update_patch.operations[0].plot_patterns()\n",
    "\n",
    "# finally disconnect\n",
    "connector.disconnect_driver()\n"
   ]
  },
  {
   "cell_type": "markdown",
   "metadata": {
    "pycharm": {
     "name": "#%% md\n"
    }
   },
   "source": [
    "## Apply patch\n",
    "\n",
    "! Switch to receiver database !"
   ]
  },
  {
   "cell_type": "markdown",
   "metadata": {
    "pycharm": {
     "name": "#%% md\n"
    }
   },
   "source": [
    "optional: clear database"
   ]
  },
  {
   "cell_type": "code",
   "execution_count": 4,
   "metadata": {
    "pycharm": {
     "name": "#%%\n"
    }
   },
   "outputs": [
    {
     "name": "stdout",
     "output_type": "stream",
     "text": [
      "Initialized new Connector instance.\n",
      "[INFO] clear database ... \n",
      "[INFO] clear database: DONE. \n"
     ]
    }
   ],
   "source": [
    "from neo4j_middleware.neo4jConnector import Neo4jConnector\n",
    "\n",
    "# connect to neo4j\n",
    "connector = Neo4jConnector()\n",
    "connector.connect_driver()\n",
    "print(\"[INFO] clear database ... \")\n",
    "connector.run_cypher_statement(\"MATCH (n) DETACH DELETE n\")\n",
    "connector.disconnect_driver()\n",
    "print(\"[INFO] clear database: DONE. \")"
   ]
  },
  {
   "cell_type": "markdown",
   "metadata": {
    "pycharm": {
     "name": "#%% md\n"
    }
   },
   "source": [
    "optional: load initial model"
   ]
  },
  {
   "cell_type": "code",
   "execution_count": 5,
   "metadata": {
    "pycharm": {
     "name": "#%%\n"
    }
   },
   "outputs": [
    {
     "name": "stdout",
     "output_type": "stream",
     "text": [
      "Initialized new Connector instance.\n",
      "[INFO] Generating host graph... \n",
      "[IFC_P21 > ts20210623T091748 < ]: Generating graph... \n",
      "[####################################################################################################] 99% done.\n",
      "[IFC_P21 > ts20210623T091748 < ]: Generating graph - DONE. \n",
      " \n",
      "Validation successful. Number of entities in the file equal the number of nodes in the graph.\n",
      "[INFO] Generating host graph: DONE. \n"
     ]
    }
   ],
   "source": [
    "from IfcGraphInterface.Ifc2GraphTranslator import IFCGraphGenerator\n",
    "from neo4j_middleware.neo4jConnector import Neo4jConnector\n",
    "\n",
    "# connect to neo4j\n",
    "connector = Neo4jConnector()\n",
    "connector.connect_driver()\n",
    "\n",
    "# paths to IFC models\n",
    "model_paths = [\n",
    "    './00_sampleData/IFC_stepP21/GeomRepresentation_05/cube_single.ifc',\n",
    "    './00_sampleData/IFC_stepP21/GeomRepresentation_05/cube_double.ifc']\n",
    "\n",
    "graphGenerator = IFCGraphGenerator(connector, model_paths[0], None)\n",
    "print('[INFO] Generating host graph... ' )\n",
    "ts_host = graphGenerator.generateGraph()\n",
    "print('[INFO] Generating host graph: DONE. ')\n",
    "# finally disconnect\n",
    "connector.disconnect_driver()"
   ]
  },
  {
   "cell_type": "markdown",
   "metadata": {
    "pycharm": {
     "name": "#%% md\n"
    }
   },
   "source": [
    "Apply patch"
   ]
  },
  {
   "cell_type": "code",
   "execution_count": 6,
   "metadata": {
    "pycharm": {
     "name": "#%%\n"
    }
   },
   "outputs": [
    {
     "name": "stdout",
     "output_type": "stream",
     "text": [
      "Initialized new Connector instance.\n",
      "[INFO] loading delta json....\n",
      "[INFO] loading delta json: DONE.\n",
      "[INFO] Applying patch ...\n",
      "[INFO] finding context...\n",
      "insert push out\n",
      "[INFO] Applying patch: DONE.\n"
     ]
    }
   ],
   "source": [
    "from PatchManager.PatchService import PatchService\n",
    "from neo4j_middleware.neo4jConnector import Neo4jConnector\n",
    "\n",
    "label_init = \"ts20210623T091748\"\n",
    "label_updated = \"ts20210623T091749\"\n",
    "\n",
    "# connect to neo4j\n",
    "connector = Neo4jConnector()\n",
    "connector.connect_driver()\n",
    "\n",
    "# init new PatchService object handling all load and save operations\n",
    "service = PatchService()\n",
    "\n",
    "# load patch\n",
    "patch = service.load_patch_from_json('Patch_init{}-updt{}.json'.format(label_init, label_updated))\n",
    "\n",
    "# apply the patch\n",
    "print('[INFO] Applying patch ...' )\n",
    "service.apply_patch(patch, connector=connector)\n",
    "print('[INFO] Applying patch: DONE.' )\n",
    "\n",
    "# finally disconnect\n",
    "connector.disconnect_driver()"
   ]
  },
  {
   "cell_type": "code",
   "execution_count": 7,
   "metadata": {
    "pycharm": {
     "name": "#%%\n"
    }
   },
   "outputs": [
    {
     "data": {
      "text/plain": "[]"
     },
     "execution_count": 7,
     "metadata": {},
     "output_type": "execute_result"
    }
   ],
   "source": [
    "# harmonize labels\n",
    "label_init = \"ts20210623T091748\"\n",
    "label_updated = \"ts20210623T091749\"\n",
    "\n",
    "connector.run_cypher_statement(\"MATCH (n) REMOVE n:{} SET n:{}\".format(label_init, label_updated))"
   ]
  },
  {
   "cell_type": "markdown",
   "metadata": {
    "pycharm": {
     "name": "#%% md\n"
    }
   },
   "source": [
    "# Parse graph back into file-based representation"
   ]
  },
  {
   "cell_type": "code",
   "execution_count": 11,
   "metadata": {
    "pycharm": {
     "name": "#%%\n"
    }
   },
   "outputs": [
    {
     "name": "stdout",
     "output_type": "stream",
     "text": [
      "Initialized new Connector instance.\n",
      "[INFO] Parsing graph to Ifc StepP21 model... \n",
      "[INFO] Parsing graph to Ifc StepP21 model: DONE. \n",
      "[INFO] path: C:\\dev\\out\\ts20210623T091749\n"
     ]
    }
   ],
   "source": [
    "from IfcGraphInterface.Graph2IfcTranslator import Graph2IfcTranslator\n",
    "from neo4j_middleware.neo4jConnector import Neo4jConnector\n",
    "\n",
    "# connect to neo4j\n",
    "connector = Neo4jConnector()\n",
    "connector.connect_driver()\n",
    "\n",
    "label_updated = \"ts20210623T091749\"\n",
    "\n",
    "print('[INFO] Parsing graph to Ifc StepP21 model... ')\n",
    "generator = Graph2IfcTranslator(connector=connector, ts=label_updated)\n",
    "generator.generateSPF()\n",
    "\n",
    "path = \"C:\\dev\\out\\{}\".format(label_updated)\n",
    "generator.save_model(path=path)\n",
    "\n",
    "print('[INFO] Parsing graph to Ifc StepP21 model: DONE. ')\n",
    "print('[INFO] path: {}'.format(path))\n",
    "\n",
    "# finally disconnect\n",
    "connector.disconnect_driver()"
   ]
  },
  {
   "cell_type": "markdown",
   "source": [
    "inverse patch"
   ],
   "metadata": {
    "collapsed": false,
    "pycharm": {
     "name": "#%% md\n"
    }
   }
  },
  {
   "cell_type": "code",
   "execution_count": 2,
   "metadata": {
    "pycharm": {
     "name": "#%%\n"
    }
   },
   "outputs": [
    {
     "name": "stdout",
     "output_type": "stream",
     "text": [
      "Initialized new Connector instance.\n",
      "[INFO] loading delta json....\n",
      "[INFO] loading delta json: DONE.\n"
     ]
    }
   ],
   "source": [
    "from neo4j_middleware.neo4jConnector import Neo4jConnector\n",
    "from PatchManager.PatchService import PatchService\n",
    "\n",
    "# connect to neo4j\n",
    "connector = Neo4jConnector()\n",
    "connector.connect_driver()\n",
    "\n",
    "label_init = \"ts20210623T091748\"\n",
    "label_updated = \"ts20210623T091749\"\n",
    "\n",
    "# init new PatchService object handling all load and save operations\n",
    "service = PatchService()\n",
    "\n",
    "# load patch\n",
    "patch = service.load_patch_from_json('Patch_init{}-updt{}.json'.format(label_init, label_updated))\n",
    "\n",
    "# apply the patch\n",
    "service.apply_patch_inverse(patch, connector=connector)\n",
    "\n",
    "connector.disconnect_driver()"
   ]
  },
  {
   "cell_type": "code",
   "execution_count": null,
   "metadata": {
    "pycharm": {
     "name": "#%%\n"
    }
   },
   "outputs": [],
   "source": []
  }
 ],
 "metadata": {
  "kernelspec": {
   "display_name": "Python 3 (ipykernel)",
   "language": "python",
   "name": "python3"
  },
  "language_info": {
   "codemirror_mode": {
    "name": "ipython",
    "version": 3
   },
   "file_extension": ".py",
   "mimetype": "text/x-python",
   "name": "python",
   "nbconvert_exporter": "python",
   "pygments_lexer": "ipython3",
   "version": "3.8.12"
  }
 },
 "nbformat": 4,
 "nbformat_minor": 1
}