{
 "cells": [
  {
   "attachments": {},
   "cell_type": "markdown",
   "metadata": {},
   "source": [
    "# Content\n",
    "\n",
    "* define .ifcjson files\n",
    "* create Patch\n",
    "* apply Patch\n",
    "* write data to files"
   ]
  },
  {
   "attachments": {},
   "cell_type": "markdown",
   "metadata": {},
   "source": [
    "## Create Patch"
   ]
  },
  {
   "cell_type": "code",
   "execution_count": 1,
   "metadata": {},
   "outputs": [
    {
     "name": "stdout",
     "output_type": "stream",
     "text": [
      "[INFO] generating JsonBasedPatch...\n",
      "\n",
      "[INFO] Generating done.\n"
     ]
    }
   ],
   "source": [
    "from PatchManager.JsonPatchService import JsonPatchService\n",
    "import json\n",
    "\n",
    "init_filepath = '00_sampleData/IFC_json/spatial_initial.json'\n",
    "updt_filepath = '00_sampleData/IFC_json/spatial_updated.json'\n",
    "\n",
    "service = JsonPatchService.from_data(init_filepath, updt_filepath)\n",
    "\n",
    "patch = service.generate_patch()"
   ]
  },
  {
   "attachments": {},
   "cell_type": "markdown",
   "metadata": {},
   "source": [
    "## Apply patch"
   ]
  },
  {
   "cell_type": "code",
   "execution_count": 2,
   "metadata": {},
   "outputs": [
    {
     "name": "stdout",
     "output_type": "stream",
     "text": [
      "[INFO] Applying json patch...\n",
      "\n",
      "[INFO] Applying done.\n",
      "Data is equivalent. Patch operation successful\n"
     ]
    }
   ],
   "source": [
    "patched_data = service.apply_patch(patch, init_filepath)\n",
    "\n",
    "with open(updt_filepath) as u:\n",
    "    updt_data=json.load(u)\n",
    "\n",
    "if updt_data == patched_data:\n",
    "    print(\"Data is equivalent. Patch operation successful\")\n",
    "else:\n",
    "    print(\"Data is not equivalent. Operation unsuccessful\")"
   ]
  },
  {
   "attachments": {},
   "cell_type": "markdown",
   "metadata": {},
   "source": [
    "## Write data to files"
   ]
  },
  {
   "cell_type": "code",
   "execution_count": null,
   "metadata": {},
   "outputs": [],
   "source": [
    "\n",
    "# write jsonpatch to file\n",
    "service.save_patch_to_json(patch)\n",
    "\n",
    "# write patched json file\n",
    "with open('patched_data.json', 'w') as f:\n",
    "    json.dump(patched_data, f)\n",
    "\n",
    "patch"
   ]
  }
 ],
 "metadata": {
  "kernelspec": {
   "display_name": "Python 3",
   "language": "python",
   "name": "python3"
  },
  "language_info": {
   "codemirror_mode": {
    "name": "ipython",
    "version": 3
   },
   "file_extension": ".py",
   "mimetype": "text/x-python",
   "name": "python",
   "nbconvert_exporter": "python",
   "pygments_lexer": "ipython3",
   "version": "3.8.10"
  },
  "orig_nbformat": 4,
  "vscode": {
   "interpreter": {
    "hash": "fce77046da66d35c94967db1123efaebe6178f1c5d87ec71d61a7b7825a9f945"
   }
  }
 },
 "nbformat": 4,
 "nbformat_minor": 2
}
