{
 "cells": [
  {
   "cell_type": "markdown",
   "source": [
    "# Property mutation\n",
    "\n",
    "Sebastian Esser\n",
    "\n",
    "TUM CMS; July 2021\n",
    "\n",
    "## Scenario\n",
    "Sample notebook that parses two IFC models, calculates the diff and integrates the abstracted Patch into a target model.\n",
    "\n",
    "# Table of Content\n",
    "- Init database connection\n",
    "- parse two model revisions into the graph DB\n",
    "- abstract difference between both revisions and create patch\n",
    "- parse initial model once again and apply patch\n",
    "- create SPF-based representation after patch integration\n"
   ],
   "metadata": {
    "collapsed": false
   }
  },
  {
   "cell_type": "code",
   "execution_count": null,
   "outputs": [],
   "source": [
    "# Init databse connection\n",
    "# prerequisites:\n",
    "# - neo4j desktop up and running\n",
    "\n",
    "# all necessary imports\n",
    "from IfcGraphInterface.Graph2IfcTranslator import Graph2IfcTranslator\n",
    "from IfcGraphInterface.Ifc2GraphTranslator import IFCGraphGenerator\n",
    "from PatchManager.PatchGenerator import PatchGenerator\n",
    "from PatchManager.PatchIntegrator import PatchIntegrator\n",
    "from neo4jGraphDiff.GraphDiff import GraphDiff\n",
    "from neo4j_middleware.neo4jConnector import Neo4jConnector\n",
    "\n",
    "# connect to database\n",
    "connector = Neo4jConnector()\n",
    "connector.connect_driver()\n"
   ],
   "metadata": {
    "collapsed": false,
    "pycharm": {
     "name": "#%%\n"
    }
   }
  },
  {
   "cell_type": "markdown",
   "source": [
    "# Parse IFC models in DB"
   ],
   "metadata": {
    "collapsed": false
   }
  },
  {
   "cell_type": "code",
   "execution_count": null,
   "outputs": [],
   "source": [
    "model_name_init = './00_sampleData/IFC_stepP21/GeomRepresentation_05/cube_single.ifc'\n",
    "model_name_updated = './00_sampleData/IFC_stepP21/GeomRepresentation_05/cube_double.ifc'\n",
    "\n",
    "graphGenerator_init = IFCGraphGenerator(connector, model_name_init, None)\n",
    "graphGenerator_init.generateGraph()\n",
    "\n",
    "graphGenerator_updated = IFCGraphGenerator(connector, model_name_updated, None)\n",
    "graphGenerator_updated.generateGraph()\n",
    "print('Graphs generated successfully')\n"
   ],
   "metadata": {
    "collapsed": false,
    "pycharm": {
     "name": "#%%\n"
    }
   }
  },
  {
   "cell_type": "markdown",
   "source": [
    "# Calculate Patch\n",
    "\n"
   ],
   "metadata": {
    "collapsed": false
   }
  },
  {
   "cell_type": "code",
   "execution_count": null,
   "outputs": [],
   "source": [
    "label_init = 'ts20210623T091748'\n",
    "label_updated = 'ts20210623T091749'\n",
    "print_diff_report = True\n",
    "\n",
    "diff = GraphDiff(label_init=label_init, label_updated=label_updated)\n",
    "report = diff.run_diff(connector=connector)\n",
    "if print_diff_report:\n",
    "    report.print_report()\n",
    "\n",
    "# 3 -- generate patch --\n",
    "patch_generator = PatchGenerator(connector=connector)\n",
    "patch = patch_generator.create_patch_from_graph_diff(report)\n"
   ],
   "metadata": {
    "collapsed": false,
    "pycharm": {
     "name": "#%%\n"
    }
   }
  },
  {
   "cell_type": "markdown",
   "source": [
    "# Apply Patch\n"
   ],
   "metadata": {
    "collapsed": false
   }
  },
  {
   "cell_type": "code",
   "execution_count": null,
   "outputs": [],
   "source": [
    "graphGenerator_artificial = IFCGraphGenerator(connector, model_name_init, None)\n",
    "graphGenerator_artificial.label = 'ts9999'\n",
    "label_toBeUpdated = graphGenerator_artificial.generateGraph()\n",
    "\n",
    "print(patch.operations[0].pattern.to_cypher_merge(timestamp=label_toBeUpdated))\n",
    "exit()\n",
    "\n",
    "integrator = PatchIntegrator(connector=connector)\n",
    "# integrator.apply_patch(incoming_patch)\n",
    "\n"
   ],
   "metadata": {
    "collapsed": false,
    "pycharm": {
     "name": "#%%\n"
    }
   }
  },
  {
   "cell_type": "markdown",
   "source": [
    "# Export graph to SPF\n"
   ],
   "metadata": {
    "collapsed": false
   }
  },
  {
   "cell_type": "code",
   "execution_count": null,
   "outputs": [],
   "source": [
    "parser = Graph2IfcTranslator()"
   ],
   "metadata": {
    "collapsed": false,
    "pycharm": {
     "name": "#%%\n"
    }
   }
  },
  {
   "cell_type": "markdown",
   "source": [
    "# Disconnect from db\n",
    "\n"
   ],
   "metadata": {
    "collapsed": false
   }
  },
  {
   "cell_type": "code",
   "execution_count": null,
   "outputs": [],
   "source": [
    "connector.disconnect_driver()\n"
   ],
   "metadata": {
    "collapsed": false,
    "pycharm": {
     "name": "#%%\n"
    }
   }
  }
 ],
 "metadata": {
  "kernelspec": {
   "display_name": "Python 3",
   "language": "python",
   "name": "python3"
  },
  "language_info": {
   "codemirror_mode": {
    "name": "ipython",
    "version": 3
   },
   "file_extension": ".py",
   "mimetype": "text/x-python",
   "name": "python",
   "nbconvert_exporter": "python",
   "pygments_lexer": "ipython3",
   "version": "3.8.10"
  }
 },
 "nbformat": 4,
 "nbformat_minor": 1
}