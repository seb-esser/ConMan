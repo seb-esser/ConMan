{
 "cells": [
  {
   "cell_type": "markdown",
   "metadata": {
    "pycharm": {
     "name": "#%% md\n"
    },
    "slideshow": {
     "slide_type": "slide"
    }
   },
   "source": [
    "# Content:\n",
    "\n",
    "- parse IFC models into graph database\n",
    "- run Diff\n",
    "- generate patch\n",
    "- apply patch"
   ]
  },
  {
   "cell_type": "markdown",
   "metadata": {
    "pycharm": {
     "name": "#%% md\n"
    }
   },
   "source": [
    "## Parse BIM models into graph database"
   ]
  },
  {
   "cell_type": "code",
   "execution_count": 28,
   "metadata": {
    "pycharm": {
     "name": "#%%\n"
    },
    "ExecuteTime": {
     "end_time": "2023-11-02T15:03:42.747102200Z",
     "start_time": "2023-11-02T15:03:39.761303200Z"
    }
   },
   "outputs": [
    {
     "name": "stdout",
     "output_type": "stream",
     "text": [
      "[INFO] Parsing Ifc StepP21 model to Neo4j.... \n",
      "\n",
      "[INFO] Starting to generate graphs...\n",
      "Generating Graph 1/2\n",
      "[IFC_P21 > ts20210623T000000 < ]: Generating graph... \n",
      "                                                                                                              \n",
      "[IFC_P21 > ts20210623T000000 < ]: Generating graph - DONE. \n",
      " \n",
      "Generating Graph 2/2\n",
      "[IFC_P21 > ts20210623T000006 < ]: Generating graph... \n",
      "                                                                                                              \n",
      "[IFC_P21 > ts20210623T000006 < ]: Generating graph - DONE. \n",
      " \n",
      "\n",
      "[INFO] 100% done. Graphs generated. Finished in 2.99 seconds.\n"
     ]
    }
   ],
   "source": [
    "import time\n",
    "from typing import List\n",
    "\n",
    "from IfcGraphInterface.Ifc2GraphTranslator import IFCGraphGenerator\n",
    "from neo4j_middleware.neo4jConnector import Neo4jConnector\n",
    "\n",
    "print('[INFO] Parsing Ifc StepP21 model to Neo4j.... \\n')\n",
    "\n",
    "# connect to neo4j\n",
    "connector = Neo4jConnector()\n",
    "connector.connect_driver()\n",
    "\n",
    "# paths to IFC models\n",
    "model_paths: List[str] = [\n",
    "    '00_sampleData/IFC_stepP21/diss_samples/cube_single.ifc',\n",
    "    '00_sampleData/IFC_stepP21/diss_samples/cube_single-PosChange.ifc']\n",
    "\n",
    "print('[INFO] Starting to generate graphs...')\n",
    "amount = len(model_paths)\n",
    "start = time.perf_counter()\n",
    "\n",
    "model_labels = []\n",
    "\n",
    "for idx, path in enumerate(model_paths):\n",
    "    # parse model\n",
    "    # ToDo fix parsing issue\n",
    "    graphGenerator = IFCGraphGenerator(connector, path, write_to_file=False)\n",
    "    print('Generating Graph %d/%d' % (idx + 1, amount))\n",
    "    label = graphGenerator.generateGraph()\n",
    "    model_labels.append(label)\n",
    "\n",
    "finish = time.perf_counter()\n",
    "print('\\n[INFO] 100% done. Graphs generated. Finished in {} seconds.'.format(round(finish - start, 2)))\n",
    "# disconnect from database\n",
    "connector.disconnect_driver()\n",
    "\n",
    "label_init = model_labels[0]\n",
    "label_updated = model_labels[1]\n",
    "\n",
    "del idx, finish, start, model_labels, label, graphGenerator"
   ]
  },
  {
   "cell_type": "markdown",
   "metadata": {
    "pycharm": {
     "name": "#%% md\n"
    }
   },
   "source": [
    "## Run diff"
   ]
  },
  {
   "cell_type": "markdown",
   "metadata": {
    "pycharm": {
     "name": "#%% md\n"
    }
   },
   "source": [
    "runs the depth-first traversal to compare both model graphs and connects equivalent nodes using `EQUIVALENT_TO` edges"
   ]
  },
  {
   "cell_type": "code",
   "execution_count": 32,
   "metadata": {
    "pycharm": {
     "name": "#%%\n"
    },
    "ExecuteTime": {
     "end_time": "2023-11-02T15:05:08.496297500Z",
     "start_time": "2023-11-02T15:05:06.423961200Z"
    }
   },
   "outputs": [
    {
     "name": "stdout",
     "output_type": "stream",
     "text": [
      "Run Diff ... \n"
     ]
    },
    {
     "ename": "IndexError",
     "evalue": "list index out of range",
     "output_type": "error",
     "traceback": [
      "\u001B[1;31m---------------------------------------------------------------------------\u001B[0m",
      "\u001B[1;31mIndexError\u001B[0m                                Traceback (most recent call last)",
      "Cell \u001B[1;32mIn[32], line 28\u001B[0m\n\u001B[0;32m     21\u001B[0m raw_updated \u001B[38;5;241m=\u001B[39m connector\u001B[38;5;241m.\u001B[39mrun_cypher_statement(\n\u001B[0;32m     22\u001B[0m \u001B[38;5;250m    \u001B[39m\u001B[38;5;124;03m\"\"\"\u001B[39;00m\n\u001B[0;32m     23\u001B[0m \u001B[38;5;124;03m    MATCH (n:PrimaryNode:{} {{EntityType: \"IfcProject\"}})\u001B[39;00m\n\u001B[0;32m     24\u001B[0m \u001B[38;5;124;03m    RETURN n\u001B[39;00m\n\u001B[0;32m     25\u001B[0m \u001B[38;5;124;03m    \"\"\"\u001B[39;00m\u001B[38;5;241m.\u001B[39mformat(label_updated))\n\u001B[0;32m     27\u001B[0m entry_init: NodeItem \u001B[38;5;241m=\u001B[39m NodeItem\u001B[38;5;241m.\u001B[39mfrom_neo4j_response(raw_init)[\u001B[38;5;241m0\u001B[39m]\n\u001B[1;32m---> 28\u001B[0m entry_updated: NodeItem \u001B[38;5;241m=\u001B[39m NodeItem\u001B[38;5;241m.\u001B[39mfrom_neo4j_response(raw_updated)[\u001B[38;5;241m0\u001B[39m]\n\u001B[0;32m     30\u001B[0m \u001B[38;5;66;03m# run diff\u001B[39;00m\n\u001B[0;32m     31\u001B[0m pDiff \u001B[38;5;241m=\u001B[39m GraphDiff(connector\u001B[38;5;241m=\u001B[39mconnector, ts_init\u001B[38;5;241m=\u001B[39mlabel_init, ts_updated\u001B[38;5;241m=\u001B[39mlabel_updated)\n",
      "\u001B[1;31mIndexError\u001B[0m: list index out of range"
     ]
    }
   ],
   "source": [
    "from neo4jGraphDiff.GraphDiff import GraphDiff\n",
    "from neo4j_middleware.ResponseParser.NodeItem import NodeItem\n",
    "from neo4j_middleware.neo4jConnector import Neo4jConnector\n",
    "import jsonpickle\n",
    "\n",
    "print('Run Diff ... \\n')\n",
    "\n",
    "label_init = \"ts20210623T000000\"\n",
    "label_updated = \"ts20210623T000004\"\n",
    "\n",
    "# connect to neo4j\n",
    "connector = Neo4jConnector()\n",
    "connector.connect_driver()\n",
    "\n",
    "# get topmost entry nodes\n",
    "raw_init = connector.run_cypher_statement(\n",
    "    \"\"\"\n",
    "    MATCH (n:PrimaryNode:{} {{EntityType: \"IfcProject\"}})\n",
    "    RETURN n\n",
    "    \"\"\".format(label_init))\n",
    "raw_updated = connector.run_cypher_statement(\n",
    "    \"\"\"\n",
    "    MATCH (n:PrimaryNode:{} {{EntityType: \"IfcProject\"}})\n",
    "    RETURN n\n",
    "    \"\"\".format(label_updated))\n",
    "\n",
    "entry_init: NodeItem = NodeItem.from_neo4j_response(raw_init)[0]\n",
    "entry_updated: NodeItem = NodeItem.from_neo4j_response(raw_updated)[0]\n",
    "\n",
    "# run diff\n",
    "pDiff = GraphDiff(connector=connector, ts_init=label_init, ts_updated=label_updated)\n",
    "delta = pDiff.diff_subgraphs(entry_init, entry_updated)\n",
    "\n",
    "# Create EQUIVALENT_TO relationships to mark all nodePairs that are matched\n",
    "print('[INFO] building EQUIVALENT_TO edges ... ')\n",
    "pDiff.build_equivalent_to_edges()\n",
    "print('[INFO] building EQUIVALENT_TO edges: DONE. ')\n",
    "\n",
    "# store result\n",
    "print('[INFO] saving delta ... ')\n",
    "f = open('GraphDelta_init{}-updt{}.json'.format(label_init, label_updated), 'w')\n",
    "f.write(jsonpickle.dumps(delta))\n",
    "f.close()\n",
    "print('[INFO] saving delta: DONE. ')\n",
    "\n",
    "\n",
    "connector.disconnect_driver()\n",
    "del raw_init, raw_updated, entry_init, entry_updated, GraphDiff, f"
   ]
  },
  {
   "cell_type": "markdown",
   "metadata": {
    "pycharm": {
     "name": "#%% md\n"
    }
   },
   "source": [
    "## Generate patch"
   ]
  },
  {
   "cell_type": "code",
   "execution_count": 31,
   "metadata": {
    "pycharm": {
     "name": "#%%\n"
    },
    "ExecuteTime": {
     "end_time": "2023-11-02T15:04:59.722076800Z",
     "start_time": "2023-11-02T15:04:57.533953200Z"
    }
   },
   "outputs": [
    {
     "ename": "AttributeError",
     "evalue": "'NoneType' object has no attribute 'paths'",
     "output_type": "error",
     "traceback": [
      "\u001B[1;31m---------------------------------------------------------------------------\u001B[0m",
      "\u001B[1;31mAttributeError\u001B[0m                            Traceback (most recent call last)",
      "Cell \u001B[1;32mIn[31], line 10\u001B[0m\n\u001B[0;32m      7\u001B[0m service \u001B[38;5;241m=\u001B[39m GraphPatchService\u001B[38;5;241m.\u001B[39mfrom_existing_delta(delta)\n\u001B[0;32m      8\u001B[0m \u001B[38;5;66;03m# service.load_delta('GraphDelta_init{}-updt{}.json'.format(label_init, label_updated))\u001B[39;00m\n\u001B[1;32m---> 10\u001B[0m patch \u001B[38;5;241m=\u001B[39m service\u001B[38;5;241m.\u001B[39mgenerate_patch()\n\u001B[0;32m     12\u001B[0m service\u001B[38;5;241m.\u001B[39msave_patch_to_json(patch)\n\u001B[0;32m     14\u001B[0m \u001B[38;5;66;03m# visualize results\u001B[39;00m\n\u001B[0;32m     15\u001B[0m \u001B[38;5;66;03m# update_patch.operations[0].plot_patterns()\u001B[39;00m\n\u001B[0;32m     16\u001B[0m \n\u001B[0;32m     17\u001B[0m \u001B[38;5;66;03m# finally disconnect\u001B[39;00m\n",
      "File \u001B[1;32mC:\\dev\\consistencyManager\\src\\PatchManager\\GraphPatchService.py:283\u001B[0m, in \u001B[0;36mGraphPatchService.generate_patch\u001B[1;34m(self)\u001B[0m\n\u001B[0;32m    280\u001B[0m     \u001B[38;5;66;03m# store connectionNode structures\u001B[39;00m\n\u001B[0;32m    282\u001B[0m pushout_init, context_init, glue_init \u001B[38;5;241m=\u001B[39m \u001B[38;5;28mself\u001B[39m\u001B[38;5;241m.\u001B[39m__extract_conNode_patterns(\u001B[38;5;28mself\u001B[39m\u001B[38;5;241m.\u001B[39mconnector, ts\u001B[38;5;241m=\u001B[39mts_init)\n\u001B[1;32m--> 283\u001B[0m pushout_updt, context_updt, glue_updt \u001B[38;5;241m=\u001B[39m \u001B[38;5;28mself\u001B[39m\u001B[38;5;241m.\u001B[39m__extract_conNode_patterns(\u001B[38;5;28mself\u001B[39m\u001B[38;5;241m.\u001B[39mconnector, ts\u001B[38;5;241m=\u001B[39mts_updated)\n\u001B[0;32m    285\u001B[0m remove_rule \u001B[38;5;241m=\u001B[39m TransformationRule(gluing_pattern\u001B[38;5;241m=\u001B[39mglue_init,\n\u001B[0;32m    286\u001B[0m                                  push_out_pattern\u001B[38;5;241m=\u001B[39mpushout_init,\n\u001B[0;32m    287\u001B[0m                                  context_pattern\u001B[38;5;241m=\u001B[39mcontext_init,\n\u001B[0;32m    288\u001B[0m                                  operation_type\u001B[38;5;241m=\u001B[39mStructuralModificationTypeEnum\u001B[38;5;241m.\u001B[39mDELETED)\n\u001B[0;32m    290\u001B[0m insert_rule \u001B[38;5;241m=\u001B[39m TransformationRule(gluing_pattern\u001B[38;5;241m=\u001B[39mglue_updt,\n\u001B[0;32m    291\u001B[0m                                  push_out_pattern\u001B[38;5;241m=\u001B[39mpushout_updt,\n\u001B[0;32m    292\u001B[0m                                  context_pattern\u001B[38;5;241m=\u001B[39mcontext_updt,\n\u001B[0;32m    293\u001B[0m                                  operation_type\u001B[38;5;241m=\u001B[39mStructuralModificationTypeEnum\u001B[38;5;241m.\u001B[39mADDED)\n",
      "File \u001B[1;32mC:\\dev\\consistencyManager\\src\\PatchManager\\GraphPatchService.py:387\u001B[0m, in \u001B[0;36mGraphPatchService.__extract_conNode_patterns\u001B[1;34m(self, connector, ts)\u001B[0m\n\u001B[0;32m    384\u001B[0m push_out: GraphPattern \u001B[38;5;241m=\u001B[39m GraphPattern\u001B[38;5;241m.\u001B[39mfrom_neo4j_response(connector\u001B[38;5;241m.\u001B[39mrun_cypher_statement(cy))\n\u001B[0;32m    386\u001B[0m \u001B[38;5;66;03m# calculate glue and context\u001B[39;00m\n\u001B[1;32m--> 387\u001B[0m \u001B[38;5;28;01mfor\u001B[39;00m path \u001B[38;5;129;01min\u001B[39;00m push_out\u001B[38;5;241m.\u001B[39mpaths:\n\u001B[0;32m    388\u001B[0m     cy \u001B[38;5;241m=\u001B[39m \u001B[38;5;124m\"\u001B[39m\u001B[38;5;124mMATCH p = \u001B[39m\u001B[38;5;132;01m{0}\u001B[39;00m\u001B[38;5;124m-[:rel]->(n:\u001B[39m\u001B[38;5;132;01m{1}\u001B[39;00m\u001B[38;5;124m)  \u001B[39m\u001B[38;5;124m\"\u001B[39m \\\n\u001B[0;32m    389\u001B[0m          \u001B[38;5;124m\"\u001B[39m\u001B[38;5;124mRETURN p, NODES(p), RELATIONSHIPS(p)\u001B[39m\u001B[38;5;124m\"\u001B[39m\u001B[38;5;241m.\u001B[39mformat(path\u001B[38;5;241m.\u001B[39mget_start_node()\u001B[38;5;241m.\u001B[39mto_cypher(), ts)\n\u001B[0;32m    390\u001B[0m     raw \u001B[38;5;241m=\u001B[39m connector\u001B[38;5;241m.\u001B[39mrun_cypher_statement(cy)\n",
      "\u001B[1;31mAttributeError\u001B[0m: 'NoneType' object has no attribute 'paths'"
     ]
    }
   ],
   "source": [
    "from PatchManager.GraphPatchService import GraphPatchService\n",
    "from neo4j_middleware.neo4jConnector import Neo4jConnector\n",
    "\n",
    "connector = Neo4jConnector()\n",
    "connector.connect_driver()\n",
    "\n",
    "service = GraphPatchService.from_existing_delta(delta)\n",
    "# service.load_delta('GraphDelta_init{}-updt{}.json'.format(label_init, label_updated))\n",
    "\n",
    "patch = service.generate_patch()\n",
    "\n",
    "service.save_patch_to_json(patch)\n",
    "\n",
    "# visualize results\n",
    "# update_patch.operations[0].plot_patterns()\n",
    "\n",
    "# finally disconnect\n",
    "connector.disconnect_driver()\n"
   ]
  },
  {
   "cell_type": "markdown",
   "source": [
    "# Show patch patterns"
   ],
   "metadata": {
    "collapsed": false
   }
  },
  {
   "cell_type": "code",
   "execution_count": 27,
   "outputs": [
    {
     "name": "stdout",
     "output_type": "stream",
     "text": [
      "Topo Changes:\n",
      "Semantic Changes:\n",
      "path\n",
      "pathNone = (n98:IfcBuildingElementProxy:PrimaryNode{EntityType:\"IfcBuildingElementProxy\", GlobalId:\"3xn$Io5tr8TOYxqxH15Rkg\"})-[e21:rel{rel_type:\"ObjectPlacement\"}]->(n99:IfcLocalPlacement:SecondaryNode{EntityType:\"IfcLocalPlacement\"}) -[e24:rel{rel_type:\"RelativePlacement\"}]->(n100:SecondaryNode:IfcAxis2Placement3D{EntityType:\"IfcAxis2Placement3D\"}) -[e25:rel{rel_type:\"Location\"}]->(n101:IfcCartesianPoint:SecondaryNode{EntityType:\"IfcCartesianPoint\"})\n",
      "KEY: Coordinates\n",
      "VAL_OLD: (2.0, 5.0, 1.0)\n",
      "VAL_NEW: (1.0, 7.0, 1.0)\n"
     ]
    }
   ],
   "source": [
    "print(\"Topo Changes:\")\n",
    "\n",
    "# for op in patch.operations:\n",
    "#     print(\"TYPE: {}\".format(op.operation_type))\n",
    "#     print(\"Glue\")\n",
    "#     print(op.gluing_pattern.print_to_console())\n",
    "#     print(\"Context\")\n",
    "#     print(op.context_pattern.print_to_console())\n",
    "#     print(\"PushOut\")\n",
    "#     print(op.push_out_pattern.print_to_console())\n",
    "#     print()\n",
    "    \n",
    "print(\"Semantic Changes:\")\n",
    "for op in patch.attribute_changes: \n",
    "    print(\"path\")\n",
    "    print(op.path.to_cypher(skip_timestamp=True, entType_guid_only=True))\n",
    "    print(\"KEY: {}\".format(op.attribute_name))\n",
    "    print(\"VAL_OLD: {}\".format(op.init_value))\n",
    "    \n",
    "    print(\"VAL_NEW: {}\".format(op.updated_value))"
   ],
   "metadata": {
    "collapsed": false,
    "ExecuteTime": {
     "end_time": "2023-11-02T14:47:36.151756900Z",
     "start_time": "2023-11-02T14:47:36.136106600Z"
    }
   }
  },
  {
   "cell_type": "markdown",
   "metadata": {
    "pycharm": {
     "name": "#%% md\n"
    }
   },
   "source": [
    "## Apply patch\n",
    "\n",
    "! Switch to receiver database !"
   ]
  },
  {
   "cell_type": "markdown",
   "metadata": {
    "pycharm": {
     "name": "#%% md\n"
    }
   },
   "source": [
    "optional: clear database"
   ]
  },
  {
   "cell_type": "code",
   "execution_count": null,
   "metadata": {
    "pycharm": {
     "name": "#%%\n"
    }
   },
   "outputs": [],
   "source": [
    "from neo4j_middleware.neo4jConnector import Neo4jConnector\n",
    "\n",
    "# connect to neo4j\n",
    "connector = Neo4jConnector()\n",
    "connector.connect_driver()\n",
    "print(\"[INFO] clear database ... \")\n",
    "connector.run_cypher_statement(\"MATCH (n) DETACH DELETE n\")\n",
    "connector.disconnect_driver()\n",
    "print(\"[INFO] clear database: DONE. \")"
   ]
  },
  {
   "cell_type": "markdown",
   "metadata": {
    "pycharm": {
     "name": "#%% md\n"
    }
   },
   "source": [
    "optional: load initial model"
   ]
  },
  {
   "cell_type": "code",
   "execution_count": null,
   "metadata": {
    "pycharm": {
     "name": "#%%\n"
    }
   },
   "outputs": [],
   "source": [
    "from IfcGraphInterface.Ifc2GraphTranslator import IFCGraphGenerator\n",
    "from neo4j_middleware.neo4jConnector import Neo4jConnector\n",
    "\n",
    "# connect to neo4j\n",
    "connector = Neo4jConnector()\n",
    "connector.connect_driver()\n",
    "\n",
    "# paths to IFC models\n",
    "model_paths: List[str] = [\n",
    "    './00_sampleData/IFC_stepP21/Fahrzeughalle/Fahrzeughalle.ifc',\n",
    "    './00_sampleData/IFC_stepP21/Fahrzeughalle/Fahrzeughalle_updt.ifc']\n",
    "\n",
    "graphGenerator = IFCGraphGenerator(connector, model_paths[0], None)\n",
    "print('[INFO] Generating host graph... ' )\n",
    "ts_host = graphGenerator.generateGraph()\n",
    "print('[INFO] Generating host graph: DONE. ')\n",
    "# finally disconnect\n",
    "connector.disconnect_driver()"
   ]
  },
  {
   "cell_type": "markdown",
   "metadata": {
    "pycharm": {
     "name": "#%% md\n"
    }
   },
   "source": [
    "Apply patch"
   ]
  },
  {
   "cell_type": "code",
   "execution_count": null,
   "metadata": {
    "pycharm": {
     "name": "#%%\n"
    }
   },
   "outputs": [],
   "source": [
    "from PatchManager.PatchService import PatchService\n",
    "from neo4j_middleware.neo4jConnector import Neo4jConnector\n",
    "\n",
    "label_init = \"ts20220510T140147\"\n",
    "label_updated = \"ts20220510T140041\"\n",
    "\n",
    "# connect to neo4j\n",
    "connector = Neo4jConnector()\n",
    "connector.connect_driver()\n",
    "\n",
    "# init new PatchService object handling all load and save operations\n",
    "service = PatchService()\n",
    "\n",
    "# load patch\n",
    "patch = service.load_patch_from_json('Patch_init{}-updt{}.json'.format(label_init, label_updated))\n",
    "\n",
    "# apply the patch\n",
    "print('[INFO] Applying patch ...' )\n",
    "service.apply_patch(patch)\n",
    "print('[INFO] Applying patch: DONE.' )\n",
    "\n",
    "# finally disconnect\n",
    "connector.disconnect_driver()"
   ]
  },
  {
   "cell_type": "code",
   "execution_count": null,
   "metadata": {
    "pycharm": {
     "name": "#%%\n"
    }
   },
   "outputs": [],
   "source": [
    "# harmonize labels\n",
    "label_init = \"ts20210623T091748\"\n",
    "label_updated = \"ts20210623T091749\"\n",
    "\n",
    "connector.run_cypher_statement(\"MATCH (n) REMOVE n:{} SET n:{}\".format(label_init, label_updated))"
   ]
  },
  {
   "cell_type": "markdown",
   "metadata": {
    "pycharm": {
     "name": "#%% md\n"
    }
   },
   "source": [
    "# Parse graph back into file-based representation"
   ]
  },
  {
   "cell_type": "code",
   "execution_count": null,
   "metadata": {
    "pycharm": {
     "name": "#%%\n"
    }
   },
   "outputs": [],
   "source": [
    "from IfcGraphInterface.Graph2IfcTranslator import Graph2IfcTranslator\n",
    "from neo4j_middleware.neo4jConnector import Neo4jConnector\n",
    "\n",
    "# connect to neo4j\n",
    "connector = Neo4jConnector()\n",
    "connector.connect_driver()\n",
    "\n",
    "label_updated = \"ts20220510T140147\"\n",
    "\n",
    "print('[INFO] Parsing graph to Ifc StepP21 model... ')\n",
    "generator = Graph2IfcTranslator(connector=connector, ts=label_updated)\n",
    "generator.generate_SPF()\n",
    "\n",
    "path = \"C:\\dev\\out\\{}\".format(label_updated)\n",
    "generator.save_model(path=path)\n",
    "\n",
    "print('[INFO] Parsing graph to Ifc StepP21 model: DONE. ')\n",
    "print('[INFO] path: {}'.format(path))\n",
    "\n",
    "# finally disconnect\n",
    "connector.disconnect_driver()"
   ]
  },
  {
   "cell_type": "markdown",
   "metadata": {
    "collapsed": false,
    "pycharm": {
     "name": "#%% md\n"
    }
   },
   "source": [
    "inverse patch"
   ]
  },
  {
   "cell_type": "code",
   "execution_count": null,
   "metadata": {
    "pycharm": {
     "name": "#%%\n"
    }
   },
   "outputs": [],
   "source": [
    "from neo4j_middleware.neo4jConnector import Neo4jConnector\n",
    "from PatchManager.PatchService import PatchService\n",
    "\n",
    "# connect to neo4j\n",
    "connector = Neo4jConnector()\n",
    "connector.connect_driver()\n",
    "\n",
    "label_init = \"ts20210623T091748\"\n",
    "label_updated = \"ts20210623T091749\"\n",
    "\n",
    "# init new PatchService object handling all load and save operations\n",
    "service = PatchService()\n",
    "\n",
    "# load patch\n",
    "patch = service.load_patch_from_json('Patch_init{}-updt{}.json'.format(label_init, label_updated))\n",
    "\n",
    "# apply the patch\n",
    "service.apply_patch_inverse(patch, connector=connector)\n",
    "\n",
    "connector.disconnect_driver()"
   ]
  }
 ],
 "metadata": {
  "kernelspec": {
   "display_name": "Python 3.8.10 64-bit",
   "language": "python",
   "name": "python3"
  },
  "language_info": {
   "codemirror_mode": {
    "name": "ipython",
    "version": 3
   },
   "file_extension": ".py",
   "mimetype": "text/x-python",
   "name": "python",
   "nbconvert_exporter": "python",
   "pygments_lexer": "ipython3",
   "version": "3.8.10"
  },
  "vscode": {
   "interpreter": {
    "hash": "fce77046da66d35c94967db1123efaebe6178f1c5d87ec71d61a7b7825a9f945"
   }
  }
 },
 "nbformat": 4,
 "nbformat_minor": 1
}
