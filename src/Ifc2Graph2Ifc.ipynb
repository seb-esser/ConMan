{
 "cells": [
  {
   "cell_type": "markdown",
   "id": "2d1043f7",
   "metadata": {},
   "source": [
    "# Ifc Step_P21 Conversion\n",
    "\n",
    "\n",
    "## Scenario\n",
    "Notebook that converts an .ifc-file to a graph representation and back to .ifc.\n",
    "\n",
    "## Table of Content\n",
    "- Init database connection\n",
    "- parse an .ifc-file and generate a graph from it\n",
    "- parse the graph and generate an .ifc-file from it"
   ]
  },
  {
   "cell_type": "markdown",
   "id": "7dd79e67",
   "metadata": {},
   "source": [
    "### Init database connection"
   ]
  },
  {
   "cell_type": "code",
   "execution_count": 1,
   "id": "cc327d6d",
   "metadata": {},
   "outputs": [
    {
     "name": "stdout",
     "output_type": "stream",
     "text": [
      "Initialized new Connector instance.\n"
     ]
    }
   ],
   "source": [
    "from IfcGraphInterface.Ifc2GraphTranslator import IFCGraphGenerator\n",
    "from neo4j_middleware.neo4jConnector import Neo4jConnector\n",
    "from IfcGraphInterface.Graph2IfcTranslator import Graph2IfcTranslator\n",
    "from neo4j_middleware.Neo4jQueryFactory import Neo4jQueryFactory\n",
    "from neo4j_middleware.ResponseParser.NodeItem import NodeItem\n",
    "\n",
    "connector = Neo4jConnector()\n",
    "connector.connect_driver()"
   ]
  },
  {
   "cell_type": "markdown",
   "id": "3cb7869e",
   "metadata": {},
   "source": [
    "### Parse .ifc-file and generate a graph from it"
   ]
  },
  {
   "cell_type": "code",
   "execution_count": 2,
   "id": "7361fb6d",
   "metadata": {},
   "outputs": [
    {
     "name": "stdout",
     "output_type": "stream",
     "text": [
      "Starting to generate graphs...\n",
      "DEBUG INFO: entire graph labeled with >> ts20200202T105551 << gets deleted \n",
      "\n",
      "[IFC_P21 > ts20200202T105551 < ]: Generating graph... \n",
      "[####################################################################################################] 100% done.\n",
      "[IFC_P21 > ts20200202T105551 < ]: Generating graph - DONE. \n",
      " \n",
      "Generating done. Graph completed.\n"
     ]
    }
   ],
   "source": [
    "path = './00_sampleData/IFC_stepP21/SleeperSample/sleeper_init.ifc'\n",
    "\n",
    "print('Starting to generate graphs...')\n",
    "graphGenerator = IFCGraphGenerator(connector, path, None)\n",
    "graphGenerator.generateGraph()\n",
    "print('Generating done. Graph completed.')"
   ]
  },
  {
   "cell_type": "markdown",
   "id": "04f05023",
   "metadata": {},
   "source": [
    "### Parse graph and generate .ifc-file"
   ]
  },
  {
   "cell_type": "code",
   "execution_count": 4,
   "id": "ba3c5526",
   "metadata": {},
   "outputs": [
    {
     "name": "stdout",
     "output_type": "stream",
     "text": [
      "---- Building primary & secondary nodes. ----\n",
      "building entity IfcProject\n",
      "building entity IfcGeometricRepresentationContext\n"
     ]
    },
    {
     "ename": "NameError",
     "evalue": "name 'ts' is not defined",
     "output_type": "error",
     "traceback": [
      "\u001B[1;31m---------------------------------------------------------------------------\u001B[0m",
      "\u001B[1;31mNameError\u001B[0m                                 Traceback (most recent call last)",
      "\u001B[1;32m<ipython-input-4-7c2ee46c2110>\u001B[0m in \u001B[0;36m<module>\u001B[1;34m\u001B[0m\n\u001B[0;32m      3\u001B[0m \u001B[0mgenerator\u001B[0m \u001B[1;33m=\u001B[0m \u001B[0mGraph2IfcTranslator\u001B[0m\u001B[1;33m(\u001B[0m\u001B[0mconnector\u001B[0m\u001B[1;33m=\u001B[0m\u001B[0mconnector\u001B[0m\u001B[1;33m,\u001B[0m \u001B[0mts\u001B[0m\u001B[1;33m=\u001B[0m\u001B[0mts\u001B[0m\u001B[1;33m)\u001B[0m\u001B[1;33m\u001B[0m\u001B[1;33m\u001B[0m\u001B[0m\n\u001B[0;32m      4\u001B[0m \u001B[1;31m# generate IFC model\u001B[0m\u001B[1;33m\u001B[0m\u001B[1;33m\u001B[0m\u001B[1;33m\u001B[0m\u001B[0m\n\u001B[1;32m----> 5\u001B[1;33m \u001B[0mgenerator\u001B[0m\u001B[1;33m.\u001B[0m\u001B[0mgenerateSPF\u001B[0m\u001B[1;33m(\u001B[0m\u001B[1;33m)\u001B[0m\u001B[1;33m\u001B[0m\u001B[1;33m\u001B[0m\u001B[0m\n\u001B[0m\u001B[0;32m      6\u001B[0m \u001B[1;33m\u001B[0m\u001B[0m\n\u001B[0;32m      7\u001B[0m \u001B[1;31m# save IFC model\u001B[0m\u001B[1;33m\u001B[0m\u001B[1;33m\u001B[0m\u001B[1;33m\u001B[0m\u001B[0m\n",
      "\u001B[1;32mC:\\dev\\ConsistencyManager\\SrcPython\\GraphBasedModelDiff\\GraphBasedModelDiff\\IfcGraphInterface\\Graph2IfcTranslator.py\u001B[0m in \u001B[0;36mgenerateSPF\u001B[1;34m(self)\u001B[0m\n\u001B[0;32m    180\u001B[0m             \u001B[0mself\u001B[0m\u001B[1;33m.\u001B[0m\u001B[0mbuild_entity\u001B[0m\u001B[1;33m(\u001B[0m\u001B[0mn\u001B[0m\u001B[1;33m.\u001B[0m\u001B[0mid\u001B[0m\u001B[1;33m,\u001B[0m \u001B[0mn\u001B[0m\u001B[1;33m.\u001B[0m\u001B[0mentityType\u001B[0m\u001B[1;33m,\u001B[0m \u001B[0mn\u001B[0m\u001B[1;33m.\u001B[0m\u001B[0mattrs\u001B[0m\u001B[1;33m)\u001B[0m\u001B[1;33m\u001B[0m\u001B[1;33m\u001B[0m\u001B[0m\n\u001B[0;32m    181\u001B[0m \u001B[1;33m\u001B[0m\u001B[0m\n\u001B[1;32m--> 182\u001B[1;33m             \u001B[0mself\u001B[0m\u001B[1;33m.\u001B[0m\u001B[0mbuild_childs\u001B[0m\u001B[1;33m(\u001B[0m\u001B[0mn\u001B[0m\u001B[1;33m,\u001B[0m \u001B[1;32mTrue\u001B[0m\u001B[1;33m)\u001B[0m\u001B[1;33m\u001B[0m\u001B[1;33m\u001B[0m\u001B[0m\n\u001B[0m\u001B[0;32m    183\u001B[0m \u001B[1;33m\u001B[0m\u001B[0m\n\u001B[0;32m    184\u001B[0m         \u001B[0mprint\u001B[0m\u001B[1;33m(\u001B[0m\u001B[1;34m'---- Primary & secondary nodes done. ----'\u001B[0m\u001B[1;33m)\u001B[0m\u001B[1;33m\u001B[0m\u001B[1;33m\u001B[0m\u001B[0m\n",
      "\u001B[1;32mC:\\dev\\ConsistencyManager\\SrcPython\\GraphBasedModelDiff\\GraphBasedModelDiff\\IfcGraphInterface\\Graph2IfcTranslator.py\u001B[0m in \u001B[0;36mbuild_childs\u001B[1;34m(self, n, rec)\u001B[0m\n\u001B[0;32m    129\u001B[0m \u001B[1;33m\u001B[0m\u001B[0m\n\u001B[0;32m    130\u001B[0m             \u001B[1;32mif\u001B[0m \u001B[0mrec\u001B[0m\u001B[1;33m:\u001B[0m\u001B[1;33m\u001B[0m\u001B[1;33m\u001B[0m\u001B[0m\n\u001B[1;32m--> 131\u001B[1;33m                 \u001B[0mself\u001B[0m\u001B[1;33m.\u001B[0m\u001B[0mbuild_childs\u001B[0m\u001B[1;33m(\u001B[0m\u001B[0mc\u001B[0m\u001B[1;33m,\u001B[0m \u001B[1;32mTrue\u001B[0m\u001B[1;33m,\u001B[0m \u001B[0mts\u001B[0m\u001B[1;33m)\u001B[0m\u001B[1;33m\u001B[0m\u001B[1;33m\u001B[0m\u001B[0m\n\u001B[0m\u001B[0;32m    132\u001B[0m \u001B[1;33m\u001B[0m\u001B[0m\n\u001B[0;32m    133\u001B[0m     \u001B[1;32mdef\u001B[0m \u001B[0mlookup_ifc_counterpart_exists\u001B[0m\u001B[1;33m(\u001B[0m\u001B[0mself\u001B[0m\u001B[1;33m,\u001B[0m \u001B[0mnode_id\u001B[0m\u001B[1;33m)\u001B[0m \u001B[1;33m->\u001B[0m \u001B[0mint\u001B[0m\u001B[1;33m:\u001B[0m\u001B[1;33m\u001B[0m\u001B[1;33m\u001B[0m\u001B[0m\n",
      "\u001B[1;31mNameError\u001B[0m: name 'ts' is not defined"
     ]
    }
   ],
   "source": [
    "ts = \"ts20200202T105551\"\n",
    "\n",
    "generator = Graph2IfcTranslator(connector=connector, ts=ts)\n",
    "# generate IFC model\n",
    "generator.generateSPF()\n",
    "\n",
    "# save IFC model\n",
    "generator.save_model('sleeper_afterGraph')\n",
    "\n",
    "# disconnect database driver\n",
    "connector.disconnect_driver()"
   ]
  },
  {
   "cell_type": "code",
   "execution_count": null,
   "id": "a318a784",
   "metadata": {},
   "outputs": [],
   "source": []
  }
 ],
 "metadata": {
  "kernelspec": {
   "display_name": "Python 3",
   "language": "python",
   "name": "python3"
  },
  "language_info": {
   "codemirror_mode": {
    "name": "ipython",
    "version": 3
   },
   "file_extension": ".py",
   "mimetype": "text/x-python",
   "name": "python",
   "nbconvert_exporter": "python",
   "pygments_lexer": "ipython3",
   "version": "3.8.8"
  }
 },
 "nbformat": 4,
 "nbformat_minor": 5
}