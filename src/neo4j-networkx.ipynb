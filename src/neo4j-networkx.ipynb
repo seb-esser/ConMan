{
 "cells": [
  {
   "cell_type": "code",
   "execution_count": null,
   "outputs": [],
   "source": [
    "from neo4j_middleware.neo4jConnector import Neo4jConnector\n",
    "from IfcGraphInterface.neo2nxTranslator import Neo2NxConnector\n",
    "\n",
    "timestamp = \"ts20221002T111302\"\n",
    "\n",
    "connector = Neo4jConnector()\n",
    "connector.connect_driver()\n",
    "\n",
    "parser = Neo2NxConnector(connector=connector)\n",
    "parser.translate_neo2nx(timestamp=timestamp)\n"
   ],
   "metadata": {
    "collapsed": false,
    "pycharm": {
     "is_executing": true
    }
   }
  },
  {
   "cell_type": "code",
   "execution_count": null,
   "outputs": [],
   "source": [],
   "metadata": {
    "collapsed": false
   }
  }
 ],
 "metadata": {
  "kernelspec": {
   "display_name": "Python 3",
   "language": "python",
   "name": "python3"
  },
  "language_info": {
   "codemirror_mode": {
    "name": "ipython",
    "version": 2
   },
   "file_extension": ".py",
   "mimetype": "text/x-python",
   "name": "python",
   "nbconvert_exporter": "python",
   "pygments_lexer": "ipython2",
   "version": "2.7.6"
  }
 },
 "nbformat": 4,
 "nbformat_minor": 0
}
